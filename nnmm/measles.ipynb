{
 "cells": [
  {
   "cell_type": "markdown",
   "metadata": {},
   "source": [
    "# Model\n",
    "\n",
    "We will create a blank object, called `model`, to hold the various pieces of information we have about our model."
   ]
  },
  {
   "cell_type": "code",
   "execution_count": 143,
   "metadata": {},
   "outputs": [],
   "source": [
    "class Model:\n",
    "    pass\n",
    "\n",
    "model = Model()"
   ]
  },
  {
   "cell_type": "markdown",
   "metadata": {},
   "source": [
    "## Source Demographics Data\n",
    "\n",
    "We have some census data for Nigeria (2015) which we will use to set the initial populations for our nodes. Since we are modeling northern Nigeria, as a first cut we will only choose administrative districts which start with \"NORTH_\". That gives us 419 nodes with a total population of ~96M."
   ]
  },
  {
   "cell_type": "code",
   "execution_count": 144,
   "metadata": {},
   "outputs": [
    {
     "name": "stdout",
     "output_type": "stream",
     "text": [
      "/Users/christopherlorton/projects/laser/nnmm\n",
      "len(admin2)=774\n",
      "[0, 1, 2, 3, 4, 5, 6, 7, 8, 9, 10, 11, 12, 13, 14, 15, 16, 17, 18, 19, 20, 21, 22, 23, 24, 25, 26, 27, 28, 29, 30, 31, 32, 33, 34, 35, 36, 37, 38, 39, 40, 41, 42, 43, 44, 45, 46, 47, 48, 49, 50, 51, 52, 53, 54, 55, 56, 57, 58, 59, 60, 61, 62, 63, 64, 65, 66, 67, 68, 69, 70, 71, 72, 73, 74, 75, 76, 77, 78, 79, 80, 81, 82, 83, 84, 85, 86, 87, 88, 89, 90, 91, 92, 93, 94, 95, 96, 97, 98, 99, 100, 101, 102, 103, 104, 105, 106, 107, 108, 109, 110, 111, 112, 113, 114, 115, 116, 117, 118, 119, 120, 121, 122, 123, 124, 125, 126, 127, 128, 129, 130, 131, 132, 133, 134, 135, 136, 137, 138, 139, 140, 141, 142, 143, 144, 145, 146, 147, 148, 149, 150, 151, 152, 153, 154, 155, 156, 157, 158, 159, 160, 161, 162, 163, 164, 165, 166, 167, 168, 169, 170, 171, 172, 173, 174, 175, 176, 177, 178, 179, 180, 181, 182, 183, 184, 185, 186, 187, 188, 189, 190, 191, 192, 193, 194, 195, 196, 197, 198, 199, 200, 201, 202, 203, 204, 205, 206, 207, 208, 209, 210, 211, 212, 213, 214, 215, 216, 217, 218, 219, 220, 221, 222, 223, 224, 225, 226, 227, 228, 229, 230, 231, 232, 233, 234, 235, 236, 237, 238, 239, 240, 241, 242, 243, 244, 245, 246, 247, 248, 249, 250, 251, 252, 253, 254, 255, 256, 257, 258, 259, 260, 261, 262, 263, 264, 265, 266, 267, 268, 269, 270, 271, 272, 273, 274, 275, 276, 277, 278, 279, 280, 281, 282, 283, 284, 285, 286, 287, 288, 289, 290, 291, 292, 293, 294, 295, 296, 297, 298, 299, 300, 301, 302, 303, 304, 305, 306, 307, 308, 309, 310, 311, 312, 313, 314, 315, 316, 317, 318, 319, 320, 321, 322, 323, 324, 325, 326, 327, 328, 329, 330, 331, 332, 333, 334, 335, 336, 337, 338, 339, 340, 341, 342, 343, 344, 345, 346, 347, 348, 349, 350, 351, 352, 353, 354, 355, 356, 357, 358, 359, 360, 361, 362, 363, 364, 365, 366, 367, 368, 369, 370, 371, 372, 373, 374, 375, 376, 377, 378, 379, 380, 381, 382, 383, 384, 385, 386, 387, 388, 389, 390, 391, 392, 393, 394, 395, 396, 397, 398, 399, 400, 401, 402, 403, 404, 405, 406, 407, 408, 409, 410, 411, 412, 413, 414, 415, 416, 417, 418]\n",
      "len(nn_node_indices)=419\n",
      "len(initial_populations)=419\n",
      "[218307 149264 156060 241059 449950 274092 187077 181261 325921 299948\n",
      " 307508 238047 463961 131097 139646 140703 197673 213027 285194 108596\n",
      " 247537 214049 209496  69858 963196 391221 212228 150535 116164 278727\n",
      " 158456 319608]\n",
      "initial_populations.sum()=96,171,118\n"
     ]
    }
   ],
   "source": [
    "# setup initial populations\n",
    "from pathlib import Path\n",
    "\n",
    "import numpy as np\n",
    "from nigeria import lgas\n",
    "\n",
    "print(Path.cwd())\n",
    "admin2 = {k:v for k,v in lgas.items() if len(k.split(\":\")) == 5}\n",
    "print(f\"{len(admin2)=}\")\n",
    "# We need the indices of the Northern Nigeria nodes to subset the gravity matrix later\n",
    "nn_node_indices = [i for i, k in enumerate(admin2.keys()) if k.split(\":\")[2].startswith(\"NORTH_\")]\n",
    "print(nn_node_indices)\n",
    "print(f\"{len(nn_node_indices)=}\")\n",
    "nn_nodes = {k:v for i, (k, v) in enumerate(admin2.items()) if i in nn_node_indices}\n",
    "\n",
    "initial_populations = np.array([v[0][0] for v in nn_nodes.values()])\n",
    "print(f\"{len(initial_populations)=}\")\n",
    "print(initial_populations[0:32])\n",
    "print(f\"{initial_populations.sum()=:,}\")"
   ]
  },
  {
   "cell_type": "markdown",
   "metadata": {},
   "source": [
    "## Parameters\n",
    "\n",
    "We need some parameters now. We will use `PropertySet` rather than a raw dictionary for the \"syntactic sugar\" of referencing `params.ticks` rather than `params[\"ticks\"]` each time.\n",
    "\n",
    "Also, we will set the parameters separately as `meta_params` and `measles_params` but combine them into one parameter set for future use. We _could_ create `model.params = PropertySet({\"meta\":meta_params, \"measles\":measles_params})` and then reference them \"by path\" in the subsequent code, e.g., `params.meta.ticks` and `params.measles.inf_mean`."
   ]
  },
  {
   "cell_type": "code",
   "execution_count": 145,
   "metadata": {},
   "outputs": [],
   "source": [
    "from idmlaser.utils import PropertySet\n",
    "\n",
    "meta_params = PropertySet({\n",
    "    \"ticks\": 3650,\n",
    "    \"cbr\": 20,\n",
    "    \"output\": Path.cwd() / \"outputs\",\n",
    "})\n",
    "\n",
    "measles_params = PropertySet({\n",
    "    \"exp_mean\": np.float32(7.0),\n",
    "    \"exp_std\": np.float32(1.0),\n",
    "    \"inf_mean\": np.float32(7.0),\n",
    "    \"inf_std\": np.float32(1.0),\n",
    "    \"r_naught\": np.float32(14.0),\n",
    "    \"seasonality_factor\": np.float32(0.125),\n",
    "    \"seasonality_phase\": np.float32(182),\n",
    "})\n",
    "\n",
    "model.params = PropertySet(meta_params, measles_params) # type: ignore\n"
   ]
  },
  {
   "cell_type": "markdown",
   "metadata": {},
   "source": [
    "## Capacity Calculation\n",
    "\n",
    "We have our initial populations, but we need to allocate enough space to handle growth during the simulation."
   ]
  },
  {
   "cell_type": "code",
   "execution_count": 146,
   "metadata": {},
   "outputs": [
    {
     "name": "stdout",
     "output_type": "stream",
     "text": [
      "initial capacity=96,171,118\n",
      "model.params.cbr=20, model.params.ticks=3650\n",
      "growth=1.2189944199947573\n",
      "required capacity=118,404,377\n",
      "Allocating capacity for 118,404,377 individuals\n",
      "ifirst=0, ilast=96,171,118\n"
     ]
    }
   ],
   "source": [
    "from idmlaser.numpynumba import Population\n",
    "\n",
    "capacity = initial_populations.sum()\n",
    "print(f\"initial {capacity=:,}\")\n",
    "print(f\"{model.params.cbr=}, {model.params.ticks=}\")    # type: ignore\n",
    "growth = ((1.0 + model.params.cbr/1000)**(model.params.ticks // 365))   # type: ignore\n",
    "print(f\"{growth=}\")\n",
    "capacity *= growth\n",
    "capacity *= 1.01  # 1% buffer\n",
    "capacity = np.uint32(np.round(capacity))\n",
    "print(f\"required {capacity=:,}\")\n",
    "print(f\"Allocating capacity for {capacity:,} individuals\")\n",
    "population = Population(capacity)\n",
    "model.population = population   # type: ignore\n",
    "ifirst, ilast = population.add(initial_populations.sum())\n",
    "print(f\"{ifirst=:,}, {ilast=:,}\")"
   ]
  },
  {
   "cell_type": "markdown",
   "metadata": {},
   "source": [
    "## Node IDs\n",
    "\n",
    "Add a property for node id. 419 nodes requires 9 bits so we will allocate a 16 bit value. Negative IDs don't make sense, so, `uint16`."
   ]
  },
  {
   "cell_type": "code",
   "execution_count": 147,
   "metadata": {},
   "outputs": [],
   "source": [
    "population.add_scalar_property(\"nodeid\", np.uint16)\n",
    "index = 0\n",
    "for nodeid, count in enumerate(initial_populations):\n",
    "    population.nodeid[index:index+count] = nodeid\n",
    "    index += count\n"
   ]
  },
  {
   "cell_type": "markdown",
   "metadata": {},
   "source": [
    "## Node Populations\n",
    "\n",
    "We will need the most recent population numbers in order to determine the births, based on CBR, for the upcoming year. We will also, later, use the current population to determine the effective force of infection, i.e., total contagion / node population."
   ]
  },
  {
   "cell_type": "code",
   "execution_count": 148,
   "metadata": {},
   "outputs": [
    {
     "name": "stdout",
     "output_type": "stream",
     "text": [
      "ifirst=0, ilast=419\n"
     ]
    }
   ],
   "source": [
    "node_count = len(nn_nodes)\n",
    "nodes = Population(capacity=node_count)\n",
    "model.nodes = nodes # type: ignore\n",
    "ifirst, ilast = nodes.add(node_count)\n",
    "print(f\"{ifirst=:,}, {ilast=:,}\")\n",
    "nodes.add_vector_property(\"population\", model.params.ticks + 1) # type: ignore\n",
    "nodes.population[:,0] = initial_populations\n"
   ]
  },
  {
   "cell_type": "markdown",
   "metadata": {},
   "source": [
    "## Population per Tick\n",
    "\n",
    "We will propagate the current populations forward on each tick. Vital dynamics of births and non-disease deaths will update the current values. The argument signature for per tick step phases is (`model`, `tick`). This lets functions access model specific properties and use the current tick, if necessary, e.g. record information or decide to act."
   ]
  },
  {
   "cell_type": "code",
   "execution_count": 149,
   "metadata": {},
   "outputs": [],
   "source": [
    "def propagate_population(model, tick):\n",
    "    model.nodes.population[:,tick+1] = model.nodes.population[:,tick]\n",
    "\n",
    "    return\n"
   ]
  },
  {
   "cell_type": "markdown",
   "metadata": {},
   "source": [
    "## Vital Dynamcs: Births\n",
    "\n",
    "Let's implement births over time. We will use the CBR in `model.params` and draw for the number of births this year based on the most recent population. Then, we will distribute those births as evenly as possible for integral values over the days of the year.\n",
    "\n",
    "Note that we add in the date of birth and date of non-disease death after we add those properties below.\n",
    "\n",
    "Note that we add in initializing the susceptibility after we add that property below."
   ]
  },
  {
   "cell_type": "code",
   "execution_count": 150,
   "metadata": {},
   "outputs": [],
   "source": [
    "from idmlaser.kmcurve import pdsod\n",
    "\n",
    "model.nodes.add_vector_property(\"births\", (model.params.ticks + 364) // 365)\n",
    "\n",
    "def do_births(model, tick):\n",
    "\n",
    "    doy = tick % 365 + 1\n",
    "    year = tick // 365\n",
    "\n",
    "    if  doy == 1:\n",
    "        model.nodes.births[:, year] = np.random.poisson(model.nodes.population[:, tick] * model.params.cbr / 1000)\n",
    "\n",
    "    annual_births = model.nodes.births[:, year]\n",
    "    todays_births = (annual_births * doy // 365) - (annual_births * (doy - 1) // 365)\n",
    "    count_births = todays_births.sum()\n",
    "    istart, iend = model.population.add(count_births)   # add count_births agents to the population, get the indices of the new agents\n",
    "\n",
    "    # enable this after loading the aliased distribution\n",
    "    model.population.dod[istart:iend] = pdsod(model.population.dob[istart:iend], max_year=100)   # make use of the fact that dob[istart:iend] is currently 0\n",
    "    model.population.dob[istart:iend] = tick    # now update dob to reflect being born today\n",
    "\n",
    "    # enable this after adding susceptibility property to the population\n",
    "    model.population.susceptibility[istart:iend] = 1\n",
    "\n",
    "    index = istart\n",
    "    nodeids = model.population.nodeid   # grab this once for efficiency\n",
    "    dods = model.population.dod # grab this once for efficiency\n",
    "    max_tick = model.params.ticks\n",
    "    for nodeid, births in enumerate(todays_births):\n",
    "        nodeids[index:index+births] = nodeid\n",
    "        for agent in range(index, index+births):\n",
    "            # If the agent will die before the end of the simulation, add it to the queue\n",
    "            if dods[agent] < max_tick:\n",
    "                model.nddq.push(agent)\n",
    "        index += births\n",
    "    model.nodes.population[:,tick+1] += todays_births\n",
    "\n",
    "    return\n"
   ]
  },
  {
   "cell_type": "markdown",
   "metadata": {},
   "source": [
    "## Non-Disease Mortality Part I\n",
    "\n",
    "We start by loading a population pyramid in order to initialize the ages of the initial population realistically.\n",
    "\n",
    "The population pyramid is typically in 5 year age buckets. Once we draw for the age bucket, we draw uniformly for a date of birth within the range of the bucket.\n",
    "\n",
    "**Note:** the values in `model.population.dob` are _positive_ at this point. Later we will negate them to convert them to dates of birth prior to now (t = 0)."
   ]
  },
  {
   "cell_type": "code",
   "execution_count": 151,
   "metadata": {},
   "outputs": [
    {
     "name": "stdout",
     "output_type": "stream",
     "text": [
      "Loading pyramid from '/Users/christopherlorton/projects/laser/tests/USA-pyramid-2023.csv'...\n",
      "Reading data from '/Users/christopherlorton/projects/laser/tests/USA-pyramid-2023.csv' ...\n",
      "Creating aliased distribution...\n",
      "Sampling 96,171,118 ages... population.count=96,171,118\n",
      "Converting age buckets to ages...\n"
     ]
    },
    {
     "name": "stderr",
     "output_type": "stream",
     "text": [
      "100%|██████████| 21/21 [00:03<00:00,  6.85it/s]\n"
     ]
    }
   ],
   "source": [
    "from tqdm import tqdm\n",
    "\n",
    "import idmlaser.pyramid as pyramid\n",
    "\n",
    "pyramid_file = Path.cwd().parent / \"tests\" / \"USA-pyramid-2023.csv\"\n",
    "print(f\"Loading pyramid from '{pyramid_file}'...\")\n",
    "age_distribution = pyramid.load_pyramid_csv(pyramid_file)\n",
    "print(\"Creating aliased distribution...\")\n",
    "aliased_distribution = pyramid.AliasedDistribution(age_distribution[:,4])\n",
    "count_active = initial_populations.sum()\n",
    "print(f\"Sampling {count_active:,} ages... {population.count=:,}\")\n",
    "buckets = aliased_distribution.sample(population.count)\n",
    "minimum_age = age_distribution[:, 0] * 365      # closed, include this value\n",
    "limit_age = (age_distribution[:, 1] + 1) * 365  # open, exclude this value\n",
    "population.add_scalar_property(\"dob\", np.int32)\n",
    "mask = np.zeros(capacity, dtype=bool)\n",
    "\n",
    "print(\"Converting age buckets to ages...\")\n",
    "for i in tqdm(range(len(age_distribution))):\n",
    "    mask[:count_active] = (buckets == i)    # indices of agents in this age group bucket\n",
    "    # draw uniformly between the start and end of the age group bucket\n",
    "    population.dob[mask] = np.random.randint(low=minimum_age[i], high=limit_age[i], size=mask.sum())\n"
   ]
  },
  {
   "cell_type": "markdown",
   "metadata": {},
   "source": [
    "## Non-Disease Mortality Part II\n",
    "\n",
    "We import `pdsod` (\"predicted_days_of_death\") which currently uses a USA 2003 survival table. `pdsod` will draw for a year of death (in or after the current age year) and then will draw a day in the selected year.\n",
    "\n",
    "**Note:** the incoming values in `model.population.dob` are positive (_ages_). After we use them to draw for date of death, we negate them to convert them to dates of birth (in days) prior to now (t=0)."
   ]
  },
  {
   "cell_type": "code",
   "execution_count": 152,
   "metadata": {},
   "outputs": [
    {
     "name": "stdout",
     "output_type": "stream",
     "text": [
      "Elapsed time for drawing dates of death: 0:00:00.648396\n",
      "First 32 DoBs (should all be negative - these agents were born before today): [  -906 -17452 -15668 -18347 -29858 -17333   -769 -12349  -2731  -5139\n",
      " -11077 -29943  -3880  -8742  -1560  -2623 -14771  -8092 -23435 -24691\n",
      " -19721 -15926 -21438 -20848  -1697 -11151  -9755  -6942 -19800 -20261\n",
      " -15855 -18538]\n",
      "First 32 DoDs (should all be positive - these agents will all pass in the future): [21208 11018 17043 11476  3045  9117 30493 17579 25644 27107 18576  3424\n",
      " 27807  5805 22364 23171  7447 20575  1192 11749  9443  7849 10699   621\n",
      " 25624 11192 16809 22369  8280 11529 16422 11107]\n"
     ]
    }
   ],
   "source": [
    "from datetime import datetime\n",
    "\n",
    "from idmlaser.kmcurve import pdsod\n",
    "\n",
    "population.add_scalar_property(\"dod\", np.int32)\n",
    "dobs = population.dob\n",
    "dods = population.dod\n",
    "tstart = datetime.now(tz=None)  # noqa: DTZ005\n",
    "dods[0:population.count] = pdsod(dobs[0:population.count], max_year=100)\n",
    "tfinish = datetime.now(tz=None)  # noqa: DTZ005\n",
    "print(f\"Elapsed time for drawing dates of death: {tfinish - tstart}\")\n",
    "\n",
    "dods -= dobs.astype(dods.dtype) # renormalize to be relative to _now_ (t = 0)\n",
    "dobs *= -1  # convert ages to date of birth prior to _now_ (t = 0) ∴ negative\n",
    "print(f\"First 32 DoBs (should all be negative - these agents were born before today):\\n{dobs[:32]}\")\n",
    "print(f\"First 32 DoDs (should all be positive - these agents will all pass in the future):\\n{dods[:32]}\")"
   ]
  },
  {
   "cell_type": "markdown",
   "metadata": {},
   "source": [
    "## Non-Disease Mortality Part III\n",
    "\n",
    "If we had no births, we could use a regular FIFO queue with the dates of death sorted to process non-disease deaths in time order. However, we may have agents born during the simulation who are predicted to die from non-disease causes before the end of the simulation and need to be insert, in sorted order, into the queue. So, we will use a priority queue - a data structure which allows for efficient insertion and removal while maintaining sorted order - to keep track of agents by date of non-disease death."
   ]
  },
  {
   "cell_type": "code",
   "execution_count": 153,
   "metadata": {},
   "outputs": [
    {
     "name": "stderr",
     "output_type": "stream",
     "text": [
      "100%|██████████| 11179259/11179259 [00:08<00:00, 1377365.35it/s]"
     ]
    },
    {
     "name": "stdout",
     "output_type": "stream",
     "text": [
      "Elapsed time for pushing dates of death: 0:00:08.268078\n",
      "Non-disease mortality: tracked 11,179,259, untracked 84,991,859\n"
     ]
    },
    {
     "name": "stderr",
     "output_type": "stream",
     "text": [
      "\n"
     ]
    }
   ],
   "source": [
    "from idmlaser.utils import PriorityQueuePy\n",
    "\n",
    "tstart = datetime.now(tz=None)  # noqa: DTZ005\n",
    "dods = population.dod\n",
    "mortality = PriorityQueuePy(capacity, dods)\n",
    "for i in tqdm(indices := np.nonzero(dods[0:population.count] < model.params.ticks)[0]):\n",
    "    mortality.push(i)\n",
    "tfinish = datetime.now(tz=None)  # noqa: DTZ005\n",
    "\n",
    "print(f\"Elapsed time for pushing dates of death: {tfinish - tstart}\")\n",
    "print(f\"Non-disease mortality: tracked {len(indices):,}, untracked {population.count - len(indices):,}\")\n",
    "\n",
    "model.nddq = mortality"
   ]
  },
  {
   "cell_type": "markdown",
   "metadata": {},
   "source": [
    "## Non-Disease Mortality Part IV\n",
    "\n",
    "During the simulation, we will process all agents with a predicated date of death today marking them as deceased and removing them from the active population count."
   ]
  },
  {
   "cell_type": "code",
   "execution_count": 154,
   "metadata": {},
   "outputs": [],
   "source": [
    "def do_non_disease_deaths(model, tick):\n",
    "\n",
    "    pq = model.nddq\n",
    "    while len(pq) > 0 and pq.peekv() <= tick:\n",
    "        i = pq.popi()\n",
    "        model.nodes.population[model.population.nodeid[i],tick+1] -= 1\n",
    "\n",
    "    return"
   ]
  },
  {
   "cell_type": "markdown",
   "metadata": {},
   "source": [
    "## Incubation and Infection\n",
    "\n",
    "We will add incubation timer (`etimer` for \"exposure timer\") and an infection (or infectious) timer (`itimer`) properties to the model population. A `uint8` counting down from as much as 255 days will be more than enough.\n",
    "\n",
    "We wrap a Numba compiled function using all available cores in the infection update function, extracting the `count` and `itimer` values the JITted function needs.\n",
    "\n",
    "Similarly, we wrap a Numba compiled function using all available cores in the exposure update function, extracting the values the JITted function needs from the `model` object."
   ]
  },
  {
   "cell_type": "code",
   "execution_count": 155,
   "metadata": {},
   "outputs": [],
   "source": [
    "import numba as nb\n",
    "\n",
    "model.population.add_scalar_property(\"etimer\", np.uint8)\n",
    "model.population.add_scalar_property(\"itimer\", np.uint8)\n",
    "\n",
    "@nb.njit((nb.uint32, nb.uint8[:]), parallel=True)\n",
    "def _infection_update(count, itimers):\n",
    "    for i in nb.prange(count):\n",
    "        if itimers[i] > 0:\n",
    "            itimers[i] -= 1\n",
    "\n",
    "    return\n",
    "\n",
    "def do_infection_update(model, tick):\n",
    "\n",
    "    _infection_update(nb.uint32(model.population.count), model.population.itimer)\n",
    "\n",
    "    return\n",
    "\n",
    "@nb.njit((nb.uint32, nb.uint8[:], nb.uint8[:], nb.float32, nb.float32), parallel=True)\n",
    "def _exposure_update(count, etimers, itimers, inf_mean, inf_std):\n",
    "    for i in nb.prange(count):\n",
    "        if etimers[i] > 0:\n",
    "            etimers[i] -= 1\n",
    "            itimers[i] = np.random.normal(inf_mean, inf_std)\n",
    "\n",
    "    return\n",
    "\n",
    "def do_exposure_update(model, tick):\n",
    "\n",
    "    _exposure_update(nb.uint32(model.population.count), model.population.etimer, model.population.itimer, model.params.inf_mean, model.params.inf_std)\n",
    "\n",
    "    return"
   ]
  },
  {
   "cell_type": "markdown",
   "metadata": {},
   "source": [
    "## Susceptibility\n",
    "\n",
    "We add a `susceptibility` property to the population in order to identify susceptible agents.\n",
    "\n",
    "Maternal immunity, once implemented, will mean setting `susceptibility = 0` at birth and then setting `susceptibility = 1` at some point in the future when maternal antibodies have been determined to have waned.\n",
    "\n",
    "RI, once implemented, will set `susceptibility = 0` if the infant is determined to get an efficacious innoculation. The infant might _not_ get an innoculation depending on RI coverage in their home node. Also, an RI innoculation might not be efficacious due to interference by maternal antibodies or just by vaccine failure.\n",
    "\n",
    "Transmission, once implemented, will set `susceptibility = 0` so the agent is not considered for future transmission. I.e., agents in the exposed, infectious, recovered, or deceased state should have `susceptibility` set to 0.\n",
    "\n",
    "**Note:** We initialize `susceptibility` to 0 since the majority of the initial population will have already been exposed to measles or have been vaccinated. First cut here is to set all agents under age 5 as susceptible.\n",
    "\n",
    "**_TODO:_** Update this function to consider maternal immunity. Children under 1(?) year of age should draw for a date of maternal immunity waning. If they are _under_ that age, their susceptibility should be set to `0` and they should be put in a priority queue based on waning date to have their susceptibility set to `1`.\n",
    "\n",
    "**_TODO:_** Update this function to probabilistically set susceptibility to `0` for children over 1 year of age based on local RI coverage and other factors (estimated prevalence and probability of _not_ having had measles?)."
   ]
  },
  {
   "cell_type": "code",
   "execution_count": 156,
   "metadata": {},
   "outputs": [],
   "source": [
    "model.population.add_scalar_property(\"susceptibility\", np.uint8)\n",
    "\n",
    "# initialize susceptibility based on age\n",
    "@nb.njit((nb.uint32, nb.int32[:], nb.uint8[:]), parallel=True)\n",
    "def initialize_susceptibility(count, dob, susceptibility):\n",
    "\n",
    "    for i in nb.prange(count):\n",
    "        if dob[i] >= -365*5:\n",
    "            susceptibility[i] = 1\n",
    "\n",
    "    return\n",
    "\n",
    "initialize_susceptibility(model.population.count, model.population.dob, model.population.susceptibility)"
   ]
  },
  {
   "cell_type": "markdown",
   "metadata": {},
   "source": [
    "## Routine Immunization - RI\n",
    "\n",
    "- Children under 1(?) year of age should draw for a date of RI (consider whether to draw vs. RI coverage in the node before choosing an RI date or later when their RI date comes up). Children with an RI date in the future should be put in a priority queue to be processed on their date of RI.\n",
    "  - There can be a single `riq` for the model, there is no need to differentiate by node (any node heterogeneity can be considered when their RI date comes up).\n",
    "\n",
    "- Create a tick/step phase function to process all agents with RI due on the given tick (see do_non_disease_deaths). This function draws to determine if the innoculation happens (based on RI coverage if the draw is not done at birth), determines if the innoculation is efficacious (potential maternal immunity interference or just vaccine failure). If the vaccination does not take, the agent should be considered for a follow-up RI at 15 months which would be in an additional RI priority queue."
   ]
  },
  {
   "cell_type": "markdown",
   "metadata": {},
   "source": [
    "## Initial Infections\n",
    "\n",
    "We choose up to 10 infections per node initially. Another option would be to choose the initial number of infections based on estimated prevalence.\\\n",
    "\n",
    "**Note:** this function has a known bug based on using Numba to optimize the function. [Numba only exposes an atomic decrement in CUDA implementations](https://numba.readthedocs.io/en/stable/cuda/intrinsics.html) so on the CPU it is possible that more than one thread decides there are still agents to initialize as infected and the total count of initial infections is more than specified.\n",
    "\n",
    "**_TODO:_** After checking to see if there are still infections to be initialized in this node, consider checking the susceptibility of the agent as well, i.e., only infect susceptible agents.\n",
    "\n",
    "**_TODO_:** Fix this with a compiled C/C++ function and [OpenMP 'atomic update'](https://www.openmp.org/spec-html/5.0/openmpsu95.html)."
   ]
  },
  {
   "cell_type": "code",
   "execution_count": 157,
   "metadata": {},
   "outputs": [
    {
     "name": "stdout",
     "output_type": "stream",
     "text": [
      "initial_infections.sum()=2,201\n",
      "(model.population.itimer > 0).sum()=2,201\n"
     ]
    }
   ],
   "source": [
    "initial_infections = np.random.randint(0, 11, model.nodes.count, dtype=np.uint8)\n",
    "\n",
    "@nb.njit((nb.uint32, nb.uint8[:], nb.uint16[:], nb.uint8[:], nb.float32, nb.float32), parallel=True)\n",
    "def initialize_infections(count, infections, nodeid, itimer, inf_mean, inf_std):\n",
    "\n",
    "    for i in nb.prange(count):\n",
    "        if infections[nodeid[i]] > 0:\n",
    "            infections[nodeid[i]] -= 1\n",
    "            itimer[i] = np.random.normal(inf_mean, inf_std)\n",
    "\n",
    "    return\n",
    "\n",
    "# Print this _before_ initializing infections because `initial_infections` is modified in-place.\n",
    "print(f\"{initial_infections.sum()=:,}\")\n",
    "\n",
    "initialize_infections(np.uint32(model.population.count), initial_infections, model.population.nodeid, model.population.itimer, model.params.inf_mean, model.params.inf_std)\n",
    "\n",
    "print(f\"{(model.population.itimer > 0).sum()=:,}\")"
   ]
  },
  {
   "cell_type": "markdown",
   "metadata": {},
   "source": [
    "## Transmission Part I - Setup"
   ]
  },
  {
   "cell_type": "markdown",
   "metadata": {},
   "source": [
    "## Transmission Part II - Tick/Step Processing Phase"
   ]
  },
  {
   "cell_type": "markdown",
   "metadata": {},
   "source": [
    "## Tick/Step Processing Phases\n",
    "\n",
    "The phases (sub-steps) of the processing on each tick go here as they are implemented."
   ]
  },
  {
   "cell_type": "code",
   "execution_count": 158,
   "metadata": {},
   "outputs": [],
   "source": [
    "model.phases = [\n",
    "    propagate_population,\n",
    "    do_births, # type: ignore\n",
    "    do_non_disease_deaths, # type: ignore\n",
    "    do_infection_update, # type: ignore\n",
    "    do_exposure_update, # type: ignore\n",
    "]\n"
   ]
  },
  {
   "cell_type": "markdown",
   "metadata": {},
   "source": [
    "## Running the Simulation\n",
    "\n",
    "We iterate over the specified number of ticks, keeping track, in `metrics`, of the time spent in each phase at each tick."
   ]
  },
  {
   "cell_type": "code",
   "execution_count": 159,
   "metadata": {},
   "outputs": [
    {
     "name": "stderr",
     "output_type": "stream",
     "text": [
      "100%|██████████| 3650/3650 [02:04<00:00, 29.39it/s]\n"
     ]
    }
   ],
   "source": [
    "from datetime import datetime\n",
    "\n",
    "from tqdm import tqdm\n",
    "\n",
    "model.metrics = []\n",
    "for tick in tqdm(range(model.params.ticks)):\n",
    "    metrics = [tick]\n",
    "    for phase in model.phases:\n",
    "        tstart = datetime.now(tz=None)  # noqa: DTZ005\n",
    "        phase(model, tick)\n",
    "        tfinish = datetime.now(tz=None)  # noqa: DTZ005\n",
    "        delta = tfinish - tstart\n",
    "        metrics.append(delta.seconds * 1_000_000 + delta.microseconds)  # delta is a timedelta object, let's convert it to microseconds\n",
    "    model.metrics.append(metrics)\n"
   ]
  },
  {
   "cell_type": "markdown",
   "metadata": {},
   "source": [
    "## Timing Metrics Part I\n",
    "\n",
    "Let's convert the timing information to a DataFrame and peek at the first few entries."
   ]
  },
  {
   "cell_type": "code",
   "execution_count": 160,
   "metadata": {},
   "outputs": [
    {
     "data": {
      "text/html": [
       "<div>\n",
       "<style scoped>\n",
       "    .dataframe tbody tr th:only-of-type {\n",
       "        vertical-align: middle;\n",
       "    }\n",
       "\n",
       "    .dataframe tbody tr th {\n",
       "        vertical-align: top;\n",
       "    }\n",
       "\n",
       "    .dataframe thead th {\n",
       "        text-align: right;\n",
       "    }\n",
       "</style>\n",
       "<table border=\"1\" class=\"dataframe\">\n",
       "  <thead>\n",
       "    <tr style=\"text-align: right;\">\n",
       "      <th></th>\n",
       "      <th>tick</th>\n",
       "      <th>propagate_population</th>\n",
       "      <th>do_births</th>\n",
       "      <th>do_non_disease_deaths</th>\n",
       "      <th>do_infection_update</th>\n",
       "      <th>do_exposure_update</th>\n",
       "    </tr>\n",
       "  </thead>\n",
       "  <tbody>\n",
       "    <tr>\n",
       "      <th>0</th>\n",
       "      <td>0</td>\n",
       "      <td>1161</td>\n",
       "      <td>8187</td>\n",
       "      <td>9</td>\n",
       "      <td>9827</td>\n",
       "      <td>10904</td>\n",
       "    </tr>\n",
       "    <tr>\n",
       "      <th>1</th>\n",
       "      <td>1</td>\n",
       "      <td>20</td>\n",
       "      <td>5686</td>\n",
       "      <td>89034</td>\n",
       "      <td>5181</td>\n",
       "      <td>5523</td>\n",
       "    </tr>\n",
       "    <tr>\n",
       "      <th>2</th>\n",
       "      <td>2</td>\n",
       "      <td>15</td>\n",
       "      <td>4710</td>\n",
       "      <td>165869</td>\n",
       "      <td>9586</td>\n",
       "      <td>5991</td>\n",
       "    </tr>\n",
       "    <tr>\n",
       "      <th>3</th>\n",
       "      <td>3</td>\n",
       "      <td>17</td>\n",
       "      <td>4306</td>\n",
       "      <td>62568</td>\n",
       "      <td>5444</td>\n",
       "      <td>5321</td>\n",
       "    </tr>\n",
       "    <tr>\n",
       "      <th>4</th>\n",
       "      <td>4</td>\n",
       "      <td>81</td>\n",
       "      <td>4376</td>\n",
       "      <td>59226</td>\n",
       "      <td>5217</td>\n",
       "      <td>5619</td>\n",
       "    </tr>\n",
       "  </tbody>\n",
       "</table>\n",
       "</div>"
      ],
      "text/plain": [
       "   tick  propagate_population  do_births  do_non_disease_deaths  \\\n",
       "0     0                  1161       8187                      9   \n",
       "1     1                    20       5686                  89034   \n",
       "2     2                    15       4710                 165869   \n",
       "3     3                    17       4306                  62568   \n",
       "4     4                    81       4376                  59226   \n",
       "\n",
       "   do_infection_update  do_exposure_update  \n",
       "0                 9827               10904  \n",
       "1                 5181                5523  \n",
       "2                 9586                5991  \n",
       "3                 5444                5321  \n",
       "4                 5217                5619  "
      ]
     },
     "execution_count": 160,
     "metadata": {},
     "output_type": "execute_result"
    }
   ],
   "source": [
    "import pandas as pd\n",
    "\n",
    "metrics = pd.DataFrame(model.metrics, columns=[\"tick\"] + [phase.__name__ for phase in model.phases])\n",
    "metrics.head()"
   ]
  },
  {
   "cell_type": "markdown",
   "metadata": {},
   "source": [
    "## Timing Metrics Part II\n",
    "\n",
    "Let's take a look at where we spend our processing time."
   ]
  },
  {
   "cell_type": "code",
   "execution_count": 161,
   "metadata": {},
   "outputs": [
    {
     "name": "stdout",
     "output_type": "stream",
     "text": [
      "propagate_population        82278\n",
      "do_births                16571441\n",
      "do_non_disease_deaths    59388877\n",
      "do_infection_update      23510837\n",
      "do_exposure_update       23913476\n",
      "dtype: int64\n",
      "=================================\n",
      "Total:                123,466,909\n"
     ]
    },
    {
     "data": {
      "image/png": "[encoded data removed]",
      "text/plain": [
       "<Figure size 800x800 with 1 Axes>"
      ]
     },
     "metadata": {},
     "output_type": "display_data"
    }
   ],
   "source": [
    "import matplotlib.pyplot as plt\n",
    "\n",
    "plot_columns = metrics.columns[1:]\n",
    "sum_columns = metrics[plot_columns].sum()\n",
    "print(sum_columns)\n",
    "print(\"=\" * 33)\n",
    "print(f\"Total: {sum_columns.sum():26,}\")\n",
    "plt.figure(figsize=(8, 8))\n",
    "plt.pie(sum_columns, labels=sum_columns.index, autopct=\"%1.1f%%\")\n",
    "plt.title(\"Sum of Each Column\")\n",
    "plt.show()"
   ]
  },
  {
   "cell_type": "markdown",
   "metadata": {},
   "source": [
    "## Validation - Population Over Time\n",
    "\n",
    "Let's make sure that our population is growing over time by plotting the population for a few nodes."
   ]
  },
  {
   "cell_type": "code",
   "execution_count": 162,
   "metadata": {},
   "outputs": [
    {
     "data": {
      "image/png": "[encoded data removed]",
      "text/plain": [
       "<Figure size 1000x600 with 1 Axes>"
      ]
     },
     "metadata": {},
     "output_type": "display_data"
    }
   ],
   "source": [
    "from matplotlib import pyplot as plt\n",
    "\n",
    "nodes_to_plot = [0, 1, 2, 3]\n",
    "node_population = model.nodes.population[nodes_to_plot, :]\n",
    "\n",
    "plt.figure(figsize=(10, 6))\n",
    "for i, node in enumerate(nodes_to_plot):\n",
    "    plt.plot(range(model.params.ticks + 1), node_population[i, :], label=f\"Node {node}\")\n",
    "\n",
    "plt.xlabel(\"Tick\")\n",
    "plt.ylabel(\"Population\")\n",
    "plt.title(\"Node Population Over Time\")\n",
    "plt.legend()\n",
    "plt.show()"
   ]
  },
  {
   "cell_type": "markdown",
   "metadata": {},
   "source": [
    "## Validation - Births\n",
    "\n",
    "Let's see if our births over time look right. Given a fixed CBR and a growing population, we should generally have more births later in the simulation."
   ]
  },
  {
   "cell_type": "code",
   "execution_count": 163,
   "metadata": {},
   "outputs": [
    {
     "data": {
      "image/png": "[encoded data removed]",
      "text/plain": [
       "<Figure size 1000x600 with 1 Axes>"
      ]
     },
     "metadata": {},
     "output_type": "display_data"
    }
   ],
   "source": [
    "from matplotlib import pyplot as plt\n",
    "\n",
    "node_births = model.nodes.births[nodes_to_plot, :]\n",
    "\n",
    "plt.figure(figsize=(10, 6))\n",
    "for i, node in enumerate(nodes_to_plot):\n",
    "    plt.plot(range((model.params.ticks + 364) // 365), node_births[i, :], label=f\"Node {node}\")\n",
    "\n",
    "plt.xlabel(\"Year\")\n",
    "plt.ylabel(\"Births\")\n",
    "plt.title(\"Node Births Over Time\")\n",
    "plt.legend()\n",
    "plt.show()"
   ]
  }
 ],
 "metadata": {
  "kernelspec": {
   "display_name": ".venv",
   "language": "python",
   "name": "python3"
  },
  "language_info": {
   "codemirror_mode": {
    "name": "ipython",
    "version": 3
   },
   "file_extension": ".py",
   "mimetype": "text/x-python",
   "name": "python",
   "nbconvert_exporter": "python",
   "pygments_lexer": "ipython3",
   "version": "3.9.6"
  }
 },
 "nbformat": 4,
 "nbformat_minor": 2
}
