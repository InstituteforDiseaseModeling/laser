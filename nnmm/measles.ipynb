{
 "cells": [
  {
   "cell_type": "code",
   "execution_count": 1,
   "metadata": {},
   "outputs": [],
   "source": [
    "class Model:\n",
    "    pass\n",
    "\n",
    "model = Model()"
   ]
  },
  {
   "cell_type": "markdown",
   "metadata": {},
   "source": [
    "## Source Demographics Data\n",
    "\n",
    "We have some census data for Nigeria (2015) which we will use to set the initial populations for our nodes. Since we are modeling northern Nigeria, as a first cut we will only choose administrative districts which start with \"NORTH_\". That gives us 419 nodes with a total population of ~96M."
   ]
  },
  {
   "cell_type": "code",
   "execution_count": 2,
   "metadata": {},
   "outputs": [
    {
     "name": "stdout",
     "output_type": "stream",
     "text": [
      "/workspaces/laser/nnmm\n",
      "len(admin2)=774\n",
      "len(nn_nodes)=419\n",
      "len(initial_populations)=419\n",
      "First 32 populations:\n",
      "[218307 149264 156060 241059 449950 274092 187077 181261 325921 299948\n",
      " 307508 238047 463961 131097 139646 140703 197673 213027 285194 108596\n",
      " 247537 214049 209496  69858 963196 391221 212228 150535 116164 278727\n",
      " 158456 319608]\n",
      "initial_populations.sum()=96,171,118\n"
     ]
    }
   ],
   "source": [
    "# setup initial populations\n",
    "from pathlib import Path\n",
    "\n",
    "import numpy as np\n",
    "from nigeria import lgas\n",
    "\n",
    "print(Path.cwd())\n",
    "admin2 = {k:v for k,v in lgas.items() if len(k.split(\":\")) == 5}\n",
    "print(f\"{len(admin2)=}\")\n",
    "\n",
    "nn_nodes = {k:v for k, v in admin2.items() if k.split(\":\")[2].startswith(\"NORTH_\")}\n",
    "print(f\"{len(nn_nodes)=}\")\n",
    "\n",
    "initial_populations = np.array([v[0][0] for v in nn_nodes.values()])\n",
    "print(f\"{len(initial_populations)=}\")\n",
    "print(f\"First 32 populations:\\n{initial_populations[0:32]}\")\n",
    "print(f\"{initial_populations.sum()=:,}\")"
   ]
  },
  {
   "cell_type": "markdown",
   "metadata": {},
   "source": [
    "## Parameters\n",
    "\n",
    "We need some parameters now. We will use `PropertySet` rather than a raw dictionary for the \"syntactic sugar\" of referencing `params.ticks` rather than `params[\"ticks\"]` each time.\n",
    "\n",
    "Also, we will set the parameters separately as `meta_params` and `measles_params` but combine them into one parameter set for future use. We _could_ create `model.params = PropertySet({\"meta\":meta_params, \"measles\":measles_params})` and then reference them \"by path\" in the subsequent code, e.g., `params.meta.ticks` and `params.measles.inf_mean`."
   ]
  },
  {
   "cell_type": "code",
   "execution_count": 3,
   "metadata": {},
   "outputs": [],
   "source": [
    "from idmlaser.utils import PropertySet\n",
    "\n",
    "meta_params = PropertySet({\n",
    "    \"ticks\": 3650,\n",
    "    \"cbr\": 40,  # Nigeria 2015 according to (somewhat random internet source): https://fred.stlouisfed.org/series/SPDYNCBRTINNGA\n",
    "    \"output\": Path.cwd() / \"outputs\",\n",
    "})\n",
    "\n",
    "measles_params = PropertySet({\n",
    "    \"exp_mean\": np.float32(7.0),\n",
    "    \"exp_std\": np.float32(1.0),\n",
    "    \"inf_mean\": np.float32(7.0),\n",
    "    \"inf_std\": np.float32(1.0),\n",
    "    \"r_naught\": np.float32(14.0),\n",
    "    \"seasonality_factor\": np.float32(0.125),\n",
    "    \"seasonality_phase\": np.float32(182),\n",
    "    \"ri_coverage\": np.float32(0.75),\n",
    "})\n",
    "\n",
    "network_params = PropertySet({\n",
    "    \"a\": np.float32(1.0),   # population 1 power factor\n",
    "    \"b\": np.float32(1.0),   # population 2 power factor\n",
    "    \"c\": np.float32(2.0),   # distance power factor\n",
    "    \"k\": np.float32(137.0), # gravity constant\n",
    "    \"max_frac\": np.float32(0.5), # maximum fraction of population that can move in a single tick\n",
    "})\n",
    "\n",
    "model.params = PropertySet(meta_params, measles_params, network_params) # type: ignore\n",
    "model.params.beta = model.params.r_naught / model.params.inf_mean # type: ignore\n"
   ]
  },
  {
   "cell_type": "markdown",
   "metadata": {},
   "source": [
    "## Capacity Calculation\n",
    "\n",
    "We have our initial populations, but we need to allocate enough space to handle growth during the simulation."
   ]
  },
  {
   "cell_type": "code",
   "execution_count": 4,
   "metadata": {},
   "outputs": [
    {
     "name": "stdout",
     "output_type": "stream",
     "text": [
      "initial capacity=96,171,118\n",
      "model.params.cbr=40, model.params.ticks=3650\n",
      "growth=1.4802442849183444\n",
      "required capacity=143,780,315\n",
      "Allocating capacity for 143,780,315 individuals\n",
      "ifirst=0, ilast=96,171,118\n"
     ]
    }
   ],
   "source": [
    "from idmlaser.numpynumba import Population\n",
    "\n",
    "capacity = initial_populations.sum()\n",
    "print(f\"initial {capacity=:,}\")\n",
    "print(f\"{model.params.cbr=}, {model.params.ticks=}\")    # type: ignore\n",
    "growth = ((1.0 + model.params.cbr/1000)**(model.params.ticks // 365))   # type: ignore\n",
    "print(f\"{growth=}\")\n",
    "capacity *= growth\n",
    "capacity *= 1.01  # 1% buffer\n",
    "capacity = np.uint32(np.round(capacity))\n",
    "print(f\"required {capacity=:,}\")\n",
    "print(f\"Allocating capacity for {capacity:,} individuals\")\n",
    "population = Population(capacity)\n",
    "model.population = population   # type: ignore\n",
    "ifirst, ilast = population.add(initial_populations.sum())\n",
    "print(f\"{ifirst=:,}, {ilast=:,}\")"
   ]
  },
  {
   "cell_type": "markdown",
   "metadata": {},
   "source": [
    "## Node IDs\n",
    "\n",
    "Add a property for node id. 419 nodes requires 9 bits so we will allocate a 16 bit value. Negative IDs don't make sense, so, `uint16`."
   ]
  },
  {
   "cell_type": "code",
   "execution_count": 5,
   "metadata": {},
   "outputs": [],
   "source": [
    "population.add_scalar_property(\"nodeid\", np.uint16)\n",
    "index = 0\n",
    "for nodeid, count in enumerate(initial_populations):\n",
    "    population.nodeid[index:index+count] = nodeid\n",
    "    index += count\n"
   ]
  },
  {
   "cell_type": "markdown",
   "metadata": {},
   "source": [
    "## Node Populations\n",
    "\n",
    "We will need the most recent population numbers in order to determine the births, based on CBR, for the upcoming year. We will also, later, use the current population to determine the effective force of infection, i.e., total contagion / node population.\n",
    "\n",
    "Default data type is uint32."
   ]
  },
  {
   "cell_type": "code",
   "execution_count": 6,
   "metadata": {},
   "outputs": [
    {
     "name": "stdout",
     "output_type": "stream",
     "text": [
      "ifirst=0, ilast=419\n"
     ]
    }
   ],
   "source": [
    "node_count = len(nn_nodes)\n",
    "nodes = Population(capacity=node_count) # TODO: rename `Population` to some appropriate to agents _and_ nodes\n",
    "model.nodes = nodes # type: ignore\n",
    "ifirst, ilast = nodes.add(node_count)\n",
    "print(f\"{ifirst=:,}, {ilast=:,}\")\n",
    "nodes.add_vector_property(\"population\", model.params.ticks + 1) # type: ignore\n",
    "nodes.population[:,0] = initial_populations\n"
   ]
  },
  {
   "cell_type": "markdown",
   "metadata": {},
   "source": [
    "## Population per Tick\n",
    "\n",
    "We will propagate the current populations forward on each tick. Vital dynamics of births and non-disease deaths will update the current values. The argument signature for per tick step phases is (`model`, `tick`). This lets functions access model specific properties and use the current tick, if necessary, e.g. record information or decide to act."
   ]
  },
  {
   "cell_type": "code",
   "execution_count": 7,
   "metadata": {},
   "outputs": [],
   "source": [
    "def propagate_population(model, tick):\n",
    "    model.nodes.population[:,tick+1] = model.nodes.population[:,tick]\n",
    "\n",
    "    return"
   ]
  },
  {
   "cell_type": "markdown",
   "metadata": {},
   "source": [
    "## Vital Dynamics: Births\n",
    "\n",
    "Let's implement births over time. We will use the CBR in `model.params` and draw for the number of births this year based on the most recent population. Then, we will distribute those births as evenly as possible for integral values over the days of the year.\n",
    "\n",
    "Note that we add in the date of birth and date of non-disease death after we add those properties below.\n",
    "\n",
    "Note that we add in initializing the susceptibility after we add that property below."
   ]
  },
  {
   "cell_type": "code",
   "execution_count": 8,
   "metadata": {},
   "outputs": [],
   "source": [
    "from idmlaser.kmcurve import pdsod\n",
    "\n",
    "model.nodes.add_vector_property(\"births\", (model.params.ticks + 364) // 365)    # births per year\n",
    "\n",
    "# Adding ri_timer here since it's referred to in do_births.\n",
    "model.population.add_scalar_property(\"ri_timer\", np.uint16)\n",
    "\n",
    "def do_births(model, tick):\n",
    "\n",
    "    doy = tick % 365 + 1    # day of year 1...365\n",
    "    year = tick // 365\n",
    "\n",
    "    if doy == 1:\n",
    "        model.nodes.births[:, year] = np.random.poisson(model.nodes.population[:, tick] * model.params.cbr / 1000)\n",
    "\n",
    "    annual_births = model.nodes.births[:, year]\n",
    "    todays_births = (annual_births * doy // 365) - (annual_births * (doy - 1) // 365)\n",
    "    count_births = todays_births.sum()\n",
    "    istart, iend = model.population.add(count_births)   # add count_births agents to the population, get the indices of the new agents\n",
    "\n",
    "    # enable this after loading the aliased distribution and dod and dob properties (see cells below)\n",
    "    model.population.dod[istart:iend] = pdsod(model.population.dob[istart:iend], max_year=100)   # make use of the fact that dob[istart:iend] is currently 0\n",
    "    model.population.dob[istart:iend] = tick    # now update dob to reflect being born today\n",
    "\n",
    "    # enable this after adding susceptibility property to the population (see cells below)\n",
    "    model.population.susceptibility[istart:iend] = 1\n",
    "\n",
    "    # Randomly set ri_timer for coverage fraction of agents to a value between 8.5*30.5 and 9.5*30.5 days\n",
    "    # change these numbers or parameterize as needed\n",
    "    ri_timer_values = np.random.uniform(8.5 * 30.5, 9.5 * 30.5, count_births).astype(np.uint16)\n",
    "\n",
    "    # Create a mask to select coverage fraction of agents\n",
    "    # Do coverage by node, not same for every node\n",
    "    mask = np.random.rand(count_births) < (model.nodes.ri_coverages[model.population.nodeid[istart:iend]])\n",
    "\n",
    "    # Set ri_timer values for the selected agents\n",
    "    model.population.ri_timer[istart:iend][mask] = ri_timer_values[mask]\n",
    "\n",
    "    index = istart\n",
    "    nodeids = model.population.nodeid   # grab this once for efficiency\n",
    "    dods = model.population.dod # grab this once for efficiency\n",
    "    max_tick = model.params.ticks\n",
    "    for nodeid, births in enumerate(todays_births):\n",
    "        nodeids[index:index+births] = nodeid\n",
    "        for agent in range(index, index+births):\n",
    "            # If the agent will die before the end of the simulation, add it to the queue\n",
    "            if dods[agent] < max_tick:\n",
    "                model.nddq.push(agent)\n",
    "        index += births\n",
    "    model.nodes.population[:,tick+1] += todays_births\n",
    "\n",
    "    set_accessibility(model, istart, iend )\n",
    "    add_with_ips( model, count_births, istart, iend )\n",
    "    add_maternal_immunity( model, istart, iend )\n",
    "    return"
   ]
  },
  {
   "cell_type": "markdown",
   "metadata": {},
   "source": [
    "## Non-Disease Mortality \n",
    "### Part I\n",
    "\n",
    "We start by loading a population pyramid in order to initialize the ages of the initial population realistically.\n",
    "\n",
    "The population pyramid is typically in 5 year age buckets. Once we draw for the age bucket, we draw uniformly for a date of birth within the range of the bucket.\n",
    "\n",
    "**Note:** the values in `model.population.dob` are _positive_ at this point. Later we will negate them to convert them to dates of birth prior to now (t = 0)."
   ]
  },
  {
   "cell_type": "code",
   "execution_count": 9,
   "metadata": {},
   "outputs": [
    {
     "name": "stdout",
     "output_type": "stream",
     "text": [
      "Loading pyramid from '/workspaces/laser/tests/USA-pyramid-2023.csv'...\n",
      "Reading data from '/workspaces/laser/tests/USA-pyramid-2023.csv' ...\n",
      "Creating aliased distribution...\n",
      "Sampling 96,171,118 ages... population.count=96,171,118\n",
      "Converting age buckets to ages...\n"
     ]
    },
    {
     "name": "stderr",
     "output_type": "stream",
     "text": [
      "100%|██████████| 21/21 [00:05<00:00,  4.15it/s]\n"
     ]
    }
   ],
   "source": [
    "from tqdm import tqdm\n",
    "\n",
    "import idmlaser.pyramid as pyramid\n",
    "\n",
    "pyramid_file = Path.cwd().parent / \"tests\" / \"USA-pyramid-2023.csv\"\n",
    "print(f\"Loading pyramid from '{pyramid_file}'...\")\n",
    "age_distribution = pyramid.load_pyramid_csv(pyramid_file)\n",
    "print(\"Creating aliased distribution...\")\n",
    "aliased_distribution = pyramid.AliasedDistribution(age_distribution[:,4])\n",
    "count_active = initial_populations.sum()\n",
    "print(f\"Sampling {count_active:,} ages... {population.count=:,}\")\n",
    "buckets = aliased_distribution.sample(population.count)\n",
    "minimum_age = age_distribution[:, 0] * 365      # closed, include this value\n",
    "limit_age = (age_distribution[:, 1] + 1) * 365  # open, exclude this value\n",
    "population.add_scalar_property(\"dob\", np.int32)\n",
    "mask = np.zeros(capacity, dtype=bool)\n",
    "\n",
    "print(\"Converting age buckets to ages...\")\n",
    "for i in tqdm(range(len(age_distribution))):\n",
    "    mask[:count_active] = (buckets == i)    # indices of agents in this age group bucket\n",
    "    # draw uniformly between the start and end of the age group bucket\n",
    "    population.dob[mask] = np.random.randint(low=minimum_age[i], high=limit_age[i], size=mask.sum())\n"
   ]
  },
  {
   "cell_type": "markdown",
   "metadata": {},
   "source": [
    "## Non-Disease Mortality \n",
    "### Part II\n",
    "\n",
    "We import `pdsod` (\"predicted_days_of_death\") which currently uses a USA 2003 survival table. `pdsod` will draw for a year of death (in or after the current age year) and then will draw a day in the selected year.\n",
    "\n",
    "**Note:** the incoming values in `model.population.dob` are positive (_ages_). After we use them to draw for date of death, we negate them to convert them to dates of birth (in days) prior to now (t=0)."
   ]
  },
  {
   "cell_type": "code",
   "execution_count": 10,
   "metadata": {},
   "outputs": [
    {
     "name": "stdout",
     "output_type": "stream",
     "text": [
      "Elapsed time for drawing dates of death: 0:00:00.667460\n",
      "First 32 DoBs (should all be negative - these agents were born before today):\n",
      "[-30359 -24387 -31137 -16381 -13762 -19198 -18734 -27217 -19568 -24373\n",
      " -34586  -4386  -2811 -13038 -13684 -25348  -5824  -2658 -26425  -1189\n",
      "  -5712 -14872 -17131  -1841 -10854 -16200 -14029 -19870 -18354 -12493\n",
      " -22093 -22632]\n",
      "First 32 DoDs (should all be positive - these agents will all pass in the future):\n",
      "[ 3491  5543  3855 15565 13584 15589 13739  1412  6874  4753  1722 26142\n",
      " 27996 19020  7129  7207 29605 14269  3725 24623 25630 20375 17988 18177\n",
      " 13919  1107 14869 10227 14392 21691  2035  8619]\n"
     ]
    }
   ],
   "source": [
    "from datetime import datetime\n",
    "\n",
    "from idmlaser.kmcurve import pdsod  # noqa: F811\n",
    "\n",
    "population.add_scalar_property(\"dod\", np.int32)\n",
    "dobs = population.dob\n",
    "dods = population.dod\n",
    "tstart = datetime.now(tz=None)  # noqa: DTZ005\n",
    "dods[0:population.count] = pdsod(dobs[0:population.count], max_year=100)\n",
    "tfinish = datetime.now(tz=None)  # noqa: DTZ005\n",
    "print(f\"Elapsed time for drawing dates of death: {tfinish - tstart}\")\n",
    "\n",
    "dods -= dobs.astype(dods.dtype) # renormalize to be relative to _now_ (t = 0)\n",
    "dobs *= -1  # convert ages to date of birth prior to _now_ (t = 0) ∴ negative\n",
    "print(f\"First 32 DoBs (should all be negative - these agents were born before today):\\n{dobs[:32]}\")\n",
    "print(f\"First 32 DoDs (should all be positive - these agents will all pass in the future):\\n{dods[:32]}\")"
   ]
  },
  {
   "cell_type": "markdown",
   "metadata": {},
   "source": [
    "## Non-Disease Mortality \n",
    "### Part III\n",
    "\n",
    "If we had no births, we could use a regular FIFO queue with the dates of death sorted to process non-disease deaths in time order. However, we may have agents born during the simulation who are predicted to die from non-disease causes before the end of the simulation and need to be insert, in sorted order, into the queue. So, we will use a priority queue - a data structure which allows for efficient insertion and removal while maintaining sorted order - to keep track of agents by date of non-disease death."
   ]
  },
  {
   "cell_type": "code",
   "execution_count": 11,
   "metadata": {},
   "outputs": [
    {
     "name": "stderr",
     "output_type": "stream",
     "text": [
      "100%|██████████| 11170971/11170971 [00:15<00:00, 736245.68it/s]"
     ]
    },
    {
     "name": "stdout",
     "output_type": "stream",
     "text": [
      "Elapsed time for pushing dates of death: 0:00:15.313127\n",
      "Non-disease mortality: tracked 11,170,971, untracked 85,000,147\n"
     ]
    },
    {
     "name": "stderr",
     "output_type": "stream",
     "text": [
      "\n"
     ]
    }
   ],
   "source": [
    "from idmlaser.utils import PriorityQueuePy\n",
    "\n",
    "tstart = datetime.now(tz=None)  # noqa: DTZ005\n",
    "dods = population.dod\n",
    "mortality = PriorityQueuePy(capacity, dods)\n",
    "for i in tqdm(indices := np.nonzero(dods[0:population.count] < model.params.ticks)[0]):\n",
    "    mortality.push(i)\n",
    "tfinish = datetime.now(tz=None)  # noqa: DTZ005\n",
    "\n",
    "print(f\"Elapsed time for pushing dates of death: {tfinish - tstart}\")\n",
    "print(f\"Non-disease mortality: tracked {len(indices):,}, untracked {population.count - len(indices):,}\")\n",
    "\n",
    "model.nddq = mortality"
   ]
  },
  {
   "cell_type": "markdown",
   "metadata": {},
   "source": [
    "## Non-Disease Mortality \n",
    "### Part IV\n",
    "\n",
    "During the simulation, we will process all agents with a predicated date of death today marking them as deceased and removing them from the active population count.\n",
    "\n",
    "**_TODO:_** Set a state to indicate \"deceased\" _or_ ignore the priority queue altogether and compare `dod` against `tick` and ignore agents where `dod < tick`."
   ]
  },
  {
   "cell_type": "code",
   "execution_count": 12,
   "metadata": {},
   "outputs": [],
   "source": [
    "model.nodes.add_vector_property(\"deaths\", (model.params.ticks + 364) // 365)    # deaths per year\n",
    "\n",
    "def do_non_disease_deaths(model, tick):\n",
    "\n",
    "    pq = model.nddq\n",
    "    year = tick // 365\n",
    "    while len(pq) > 0 and pq.peekv() <= tick:\n",
    "        i = pq.popi()\n",
    "        nodeid = model.population.nodeid[i]\n",
    "        model.nodes.population[nodeid,tick+1] -= 1\n",
    "        model.nodes.deaths[nodeid,year] += 1\n",
    "\n",
    "    return"
   ]
  },
  {
   "cell_type": "markdown",
   "metadata": {},
   "source": [
    "## Incubation and Infection\n",
    "\n",
    "We will add incubation timer (`etimer` for \"exposure timer\") and an infection (or infectious) timer (`itimer`) properties to the model population. A `uint8` counting down from as much as 255 days will be more than enough.\n",
    "\n",
    "We wrap a Numba compiled function using all available cores in the infection update function, extracting the `count` and `itimer` values the JITted function needs.\n",
    "\n",
    "Similarly, we wrap a Numba compiled function using all available cores in the exposure update function, extracting the values the JITted function needs from the `model` object."
   ]
  },
  {
   "cell_type": "code",
   "execution_count": 13,
   "metadata": {},
   "outputs": [],
   "source": [
    "import numba as nb\n",
    "\n",
    "model.population.add_scalar_property(\"etimer\", np.uint8)\n",
    "model.population.add_scalar_property(\"itimer\", np.uint8)\n",
    "\n",
    "@nb.njit((nb.uint32, nb.uint8[:]), parallel=True)\n",
    "def _infection_update(count, itimers):\n",
    "    for i in nb.prange(count):\n",
    "        if itimers[i] > 0:\n",
    "            itimers[i] -= 1\n",
    "\n",
    "    return\n",
    "\n",
    "def do_infection_update(model, tick):\n",
    "\n",
    "    _infection_update(nb.uint32(model.population.count), model.population.itimer)\n",
    "\n",
    "    return\n",
    "\n",
    "@nb.njit((nb.uint32, nb.uint8[:], nb.uint8[:], nb.float32, nb.float32), parallel=True)\n",
    "def _exposure_update(count, etimers, itimers, inf_mean, inf_std):\n",
    "    for i in nb.prange(count):\n",
    "        if etimers[i] > 0:\n",
    "            etimers[i] -= 1\n",
    "            if etimers[i] == 0:\n",
    "                itimers[i] = np.maximum(np.uint8(1), np.uint8(np.round(np.random.normal(inf_mean, inf_std))))    # must be at least 1 day\n",
    "\n",
    "    return\n",
    "\n",
    "def do_exposure_update(model, tick):\n",
    "\n",
    "    _exposure_update(nb.uint32(model.population.count), model.population.etimer, model.population.itimer, model.params.inf_mean, model.params.inf_std)\n",
    "\n",
    "    return"
   ]
  },
  {
   "cell_type": "markdown",
   "metadata": {},
   "source": [
    "## Susceptibility\n",
    "\n",
    "We add a `susceptibility` property to the population in order to identify susceptible agents.\n",
    "\n",
    "Maternal immunity, once implemented, will mean setting `susceptibility = 0` at birth and then setting `susceptibility = 1` at some point in the future when maternal antibodies have been determined to have waned.\n",
    "\n",
    "RI, once implemented, will set `susceptibility = 0` if the infant is determined to get an efficacious innoculation. The infant might _not_ get an innoculation depending on RI coverage in their home node. Also, an RI innoculation might not be efficacious due to interference by maternal antibodies or just by vaccine failure.\n",
    "\n",
    "Transmission, once implemented, will set `susceptibility = 0` so the agent is not considered for future transmission. I.e., agents in the exposed, infectious, recovered, or deceased state should have `susceptibility` set to 0.\n",
    "\n",
    "**Note:** We initialize `susceptibility` to 0 since the majority of the initial population will have already been exposed to measles or have been vaccinated. First cut here is to set all agents under age 5 as susceptible.\n",
    "\n",
    "**_TODO:_** Update this function to consider maternal immunity. Children under 1(?) year of age should draw for a date of maternal immunity waning. If they are _under_ that age, their susceptibility should be set to `0` and they should be put in a priority queue based on waning date to have their susceptibility set to `1`.\n",
    "\n",
    "**_TODO:_** Update this function to probabilistically set susceptibility to `0` for children over 1 year of age based on local RI coverage and other factors (estimated prevalence and probability of _not_ having had measles?)."
   ]
  },
  {
   "cell_type": "code",
   "execution_count": 14,
   "metadata": {},
   "outputs": [],
   "source": [
    "model.population.add_scalar_property(\"susceptibility\", np.uint8)\n",
    "\n",
    "# initialize susceptibility based on age\n",
    "@nb.njit((nb.uint32, nb.int32[:], nb.uint8[:]), parallel=True)\n",
    "def initialize_susceptibility(count, dob, susceptibility):\n",
    "\n",
    "    for i in nb.prange(count):\n",
    "        if dob[i] >= -365*5:\n",
    "            susceptibility[i] = 1\n",
    "\n",
    "    return\n",
    "\n",
    "initialize_susceptibility(model.population.count, model.population.dob, model.population.susceptibility)"
   ]
  },
  {
   "cell_type": "markdown",
   "metadata": {},
   "source": [
    "## Routine Immunization (RI) \n",
    "Do MCV1 for most kids at around 9mo. Do MCV2 for most of the kids who didn't take around 15mo. There are a bunch of ways of doing this.\n",
    "What we're doing here is using an IP -- to borrow EMOD terminology -- for Accessibility, with values 0 (Easy), 1 (Medium), 2 (Hard). See elsewhere for that.\n",
    "The MCV1 Timer is a uniform draw from 8.5 months to 9.5 months. MCV2 Timer is a uniform draw from 14.5 months to 15.5 months.\n",
    "### Coverages\n",
    "All MCV is subject to coverage levels which vary by node."
   ]
  },
  {
   "cell_type": "code",
   "execution_count": 15,
   "metadata": {},
   "outputs": [],
   "source": [
    "# Add new property \"ri_coverages\", just randomly for demonstration purposes\n",
    "# Replace with values from data\n",
    "nodes.add_scalar_property(\"ri_coverages\", dtype=np.float32)\n",
    "nodes.ri_coverages = np.random.rand(node_count)"
   ]
  },
  {
   "cell_type": "markdown",
   "metadata": {},
   "source": [
    "## RI\n",
    "## Accessibility \"IP\" Groups\n",
    "- 85% of in-coverage kids get MCV1\n",
    "- 14% get MCV2\n",
    "- 1% get nothing\n",
    "Vary as needed."
   ]
  },
  {
   "cell_type": "code",
   "execution_count": 16,
   "metadata": {},
   "outputs": [],
   "source": [
    "model.population.add_scalar_property(\"accessibility\", np.uint8)\n",
    "\n",
    "def set_accessibility(model, istart, iend ):\n",
    "    # Get the coverage probabilities for the relevant agents\n",
    "    coverages = model.nodes.ri_coverages[model.population.nodeid[istart:iend]]                        \n",
    "    \n",
    "    # Generate random numbers to decide accessibility based on coverages\n",
    "    random_values = np.random.rand(coverages.size)\n",
    "    \n",
    "    # Calculate attenuated probabilities\n",
    "    prob_0 = 0.85 * coverages                                           \n",
    "    prob_1 = 0.14 * coverages                                   \n",
    "    prob_2 = 0.01 * coverages\n",
    "    \n",
    "    # Normalize probabilities to ensure they sum to 1 after attenuation\n",
    "    total_prob = prob_0 + prob_1 + prob_2\n",
    "    prob_0 /= total_prob\n",
    "    prob_1 /= total_prob\n",
    "    prob_2 /= total_prob\n",
    "            \n",
    "    # Initialize accessibility array with zeros      \n",
    "    accessibility = np.zeros_like(random_values, dtype=np.uint8)\n",
    "    \n",
    "    # Set values based on attenuated probabilities\n",
    "    accessibility[random_values < prob_0] = 0                                   \n",
    "    accessibility[(random_values >= prob_0) & (random_values < prob_0 + prob_1)] = 1\n",
    "    accessibility[random_values >= prob_0 + prob_1] = 2\n",
    "    \n",
    "    # Assign to the population's accessibility attribute\n",
    "    model.population.accessibility[istart:iend] = accessibility"
   ]
  },
  {
   "cell_type": "markdown",
   "metadata": {},
   "source": [
    "## RI \n",
    "### Add based on accessibility group for newborns"
   ]
  },
  {
   "cell_type": "code",
   "execution_count": 17,
   "metadata": {},
   "outputs": [],
   "source": [
    "model.population.add_scalar_property(\"ri_timer\", np.uint8)\n",
    "\n",
    "def add_with_ips(model, count_births, istart, iend):\n",
    "    # Define the timer ranges as needed\n",
    "    ri_timer_values_9mo = np.random.uniform(8.5 * 30.5, 9.5 * 30.5, count_births).astype(np.uint16) # 9mo-ish\n",
    "    ri_timer_values_15mo = np.random.uniform(14.5 * 30.5, 15.5 * 30.5, count_births).astype(np.uint16) # 15mo-ish                                                                                           \n",
    "\n",
    "    # Get the accessibility values for the current range\n",
    "    accessibility = model.population.accessibility[istart:iend]                                       \n",
    "                                                                                                      \n",
    "    # Masks based on accessibility                                                                    \n",
    "    mask_0 = (accessibility == 0)\n",
    "    mask_1 = (accessibility == 1)\n",
    "    mask_2 = (accessibility == 2) # for validation                                                    \n",
    "    if np.count_nonzero( mask_1 ) == 0:\n",
    "        raise ValueError( \"Didn't find anyone with accessibility set to 1 (medium).\" )                \n",
    "    if np.count_nonzero( mask_2 ) == 0:\n",
    "        raise ValueError( \"Didn't find anyone with accessibility set to 2 (medium).\" )\n",
    "            \n",
    "    # mask_2 is unnecessary since we don't apply any timer for it                                     \n",
    "        \n",
    "    # Apply the 9-month-ish timer to accessibility 0\n",
    "    model.population.ri_timer[istart:iend][mask_0] = ri_timer_values_9mo[mask_0]                      \n",
    "    \n",
    "    # Apply the 15-month-ish timer to accessibility 1                                                 \n",
    "    model.population.ri_timer[istart:iend][mask_1] = ri_timer_values_15mo[mask_1]                     \n",
    "    \n",
    "    # No need to apply anything to accessibility 2, as it should remain unmodified                    \n",
    "    \n",
    "    return                                                                                            \n"
   ]
  },
  {
   "cell_type": "markdown",
   "metadata": {},
   "source": [
    "## RI\n",
    "### \"Step-Function\"\n",
    "Timers get counted down each timestep and when they reach 0, susceptibility is set to 0."
   ]
  },
  {
   "cell_type": "code",
   "execution_count": 28,
   "metadata": {},
   "outputs": [],
   "source": [
    "@nb.njit((nb.uint32, nb.uint8[:], nb.uint8[:], nb.int32[:], nb.int64), parallel=True)\n",
    "def _update_susceptibility_based_on_ri_timer(count, ri_timer, susceptibility, dob, tick):\n",
    "    for i in nb.prange(count):\n",
    "        if ri_timer[i] > 0:\n",
    "            ri_timer[i] -= 1\n",
    "            # TBD: It's perfectly possible that the individual got infected (or recovered) while this timer\n",
    "            # was counting down and we might want to abort the timer.\n",
    "            if ri_timer[i] == 0:\n",
    "                susceptibility[i] = 0\n",
    "\n",
    "def do_ri(model, tick):\n",
    "    _update_susceptibility_based_on_ri_timer(model.population.count, model.population.ri_timer, model.population.susceptibility, model.population.dob, tick)\n",
    "    return"
   ]
  },
  {
   "cell_type": "markdown",
   "metadata": {},
   "source": [
    "# Maternal Immunity (Waning)\n",
    "All newborns come into the world with susceptibility=0. They call get a 6month timer. When that timer hits 0, they become susceptible."
   ]
  },
  {
   "cell_type": "code",
   "execution_count": 19,
   "metadata": {},
   "outputs": [],
   "source": [
    "import numba as nb\n",
    "model.population.add_scalar_property(\"susceptibility_timer\", np.uint8)\n",
    "\n",
    "# Add for newborns\n",
    "def add_maternal_immunity( model, istart, iend ):\n",
    "    # enable this after adding susceptibility property to the population (see cells below)            \n",
    "    model.population.susceptibility[istart:iend] = 0 # newborns have maternal immunity                \n",
    "    model.population.susceptibility_timer[istart:iend] = int(0.5*365) # 6 months                      \n",
    "\n",
    "\n",
    "# Update\n",
    "# Define the function to decrement susceptibility_timer and update susceptibility\n",
    "@nb.njit((nb.uint32, nb.uint8[:], nb.uint8[:]), parallel=True)\n",
    "def _update_susceptibility_based_on_sus_timer(count, susceptibility_timer, susceptibility):\n",
    "    for i in nb.prange(count):\n",
    "        if susceptibility_timer[i] > 0:\n",
    "            susceptibility_timer[i] -= 1\n",
    "            if susceptibility_timer[i] == 0:\n",
    "                susceptibility[i] = 1\n",
    "\n",
    "def do_susceptibility_decay(model, tick):\n",
    "    _update_susceptibility_based_on_sus_timer(model.population.count, model.population.susceptibility_timer, model.population.susceptibility)\n",
    "    return"
   ]
  },
  {
   "cell_type": "markdown",
   "metadata": {},
   "source": [
    "## Initial Infections\n",
    "\n",
    "We choose up to 10 infections per node initially. Another option would be to choose the initial number of infections based on estimated prevalence.\n",
    "\n",
    "**Note:** this function has a known bug based on using Numba to optimize the function. [Numba only exposes an atomic decrement in CUDA implementations](https://numba.readthedocs.io/en/stable/cuda/intrinsics.html) so on the CPU it is possible that more than one thread decides there are still agents to initialize as infected and the total count of initial infections is more than specified.\n",
    "\n",
    "**_TODO:_** After checking to see if there are still infections to be initialized in this node, consider checking the susceptibility of the agent as well, i.e., only infect susceptible agents.\n",
    "\n",
    "**_TODO_:** Fix this with a compiled C/C++ function and [OpenMP 'atomic update'](https://www.openmp.org/spec-html/5.0/openmpsu95.html)."
   ]
  },
  {
   "cell_type": "code",
   "execution_count": 20,
   "metadata": {},
   "outputs": [
    {
     "name": "stdout",
     "output_type": "stream",
     "text": [
      "initial_infections.sum()=2,405,278\n",
      "(model.population.itimer > 0).sum()=2,405,278\n"
     ]
    }
   ],
   "source": [
    "# initial_infections = np.random.randint(0, 11, model.nodes.count, dtype=np.uint32)\n",
    "prevalence = 0.025 # 2.5% prevalence\n",
    "initial_infections = np.uint32(np.round(np.random.poisson(prevalence*initial_populations)))\n",
    "\n",
    "@nb.njit((nb.uint32, nb.uint32[:], nb.uint16[:], nb.uint8[:], nb.float32, nb.float32), parallel=True)\n",
    "def initialize_infections(count, infections, nodeid, itimer, inf_mean, inf_std):\n",
    "\n",
    "    for i in nb.prange(count):\n",
    "        if infections[nodeid[i]] > 0:\n",
    "            infections[nodeid[i]] -= 1\n",
    "            itimer[i] = np.maximum(np.uint8(1), np.uint8(np.round(np.random.normal(inf_mean, inf_std)))) # must be at least 1 day\n",
    "\n",
    "    return\n",
    "\n",
    "# Print this _before_ initializing infections because `initial_infections` is modified in-place.\n",
    "print(f\"{initial_infections.sum()=:,}\")\n",
    "\n",
    "initialize_infections(np.uint32(model.population.count), initial_infections, model.population.nodeid, model.population.itimer, model.params.inf_mean, model.params.inf_std)\n",
    "\n",
    "print(f\"{(model.population.itimer > 0).sum()=:,}\")"
   ]
  },
  {
   "cell_type": "markdown",
   "metadata": {},
   "source": [
    "## Transmission Part I - Setup\n",
    "\n",
    "We will add a `network` property to the model to hold the connection weights between the nodes.\n",
    "\n",
    "We initialize $n_{ij} = n_{ji} = k \\frac {P_i^a \\cdot P_j^b} {D_{ij}^c}$\n",
    "\n",
    "Then we limit outgoing migration from any one node to `max_frac`."
   ]
  },
  {
   "cell_type": "code",
   "execution_count": 21,
   "metadata": {},
   "outputs": [
    {
     "name": "stderr",
     "output_type": "stream",
     "text": [
      "100%|██████████| 419/419 [00:01<00:00, 311.27it/s]"
     ]
    },
    {
     "name": "stdout",
     "output_type": "stream",
     "text": [
      "Upper left corner of network looks like this (before limiting to max_frac):\n",
      "[[0.00000000e+00 1.13174756e-04 2.06039316e-04 1.19610275e-04]\n",
      " [1.13174756e-04 0.00000000e+00 1.36083981e-03 7.34199421e-05]\n",
      " [2.06039316e-04 1.36083981e-03 0.00000000e+00 8.51625446e-05]\n",
      " [1.19610275e-04 7.34199421e-05 8.51625446e-05 0.00000000e+00]]\n",
      "Upper left corner of network looks like this (after limiting to max_frac):\n",
      "[[0.00000000e+00 1.13174756e-04 2.06039316e-04 1.19610275e-04]\n",
      " [1.13174756e-04 0.00000000e+00 1.36083981e-03 7.34199421e-05]\n",
      " [2.06039316e-04 1.36083981e-03 0.00000000e+00 8.51625446e-05]\n",
      " [1.19610275e-04 7.34199421e-05 8.51625446e-05 0.00000000e+00]]\n"
     ]
    },
    {
     "name": "stderr",
     "output_type": "stream",
     "text": [
      "\n"
     ]
    }
   ],
   "source": [
    "# We need to calculate the distances between the centroids of the nodes in northern Nigeria\n",
    "model.nodes.add_vector_property(\"network\", model.nodes.count, dtype=np.float32)\n",
    "network = model.nodes.network\n",
    "\n",
    "RE = 6371.0  # Earth radius in km\n",
    "\n",
    "def calc_distance(lat1, lon1, lat2, lon2):\n",
    "    # convert to radians\n",
    "    lat1 = np.radians(lat1)\n",
    "    lon1 = np.radians(lon1)\n",
    "    lat2 = np.radians(lat2)\n",
    "    lon2 = np.radians(lon2)\n",
    "    # haversine formula (https://en.wikipedia.org/wiki/Haversine_formula)\n",
    "    dlat = lat2 - lat1\n",
    "    dlon = lon2 - lon1\n",
    "    a = np.sin(dlat / 2) ** 2 + np.cos(lat1) * np.cos(lat2) * np.sin(dlon / 2) ** 2\n",
    "    c = 2 * np.arcsin(np.sqrt(a))\n",
    "    d = RE * c\n",
    "    return d\n",
    "\n",
    "locations = np.zeros((model.nodes.count, 2), dtype=np.float32)\n",
    "for i, node in enumerate(nn_nodes.values()):\n",
    "    (longitude, latitude) = node[1]\n",
    "    locations[i, 0] = latitude\n",
    "    locations[i, 1] = longitude\n",
    "locations = np.radians(locations)\n",
    "\n",
    "# TODO: Consider keeping the distances and periodically recalculating the network values as the populations change\n",
    "a = model.params.a\n",
    "b = model.params.b\n",
    "c = model.params.c\n",
    "k = model.params.k\n",
    "for i in tqdm(range(model.nodes.count)):\n",
    "    popi = initial_populations[i]\n",
    "    for j in range(i+1, model.nodes.count):\n",
    "        popj = initial_populations[j]\n",
    "        network[i,j] = network[j,i] = k * (popi**a) * (popj**b) / (calc_distance(*locations[i], *locations[j])**c)\n",
    "network /= np.power(initial_populations.sum(), c)    # normalize by total population^2\n",
    "\n",
    "print(f\"Upper left corner of network looks like this (before limiting to max_frac):\\n{network[:4,:4]}\")\n",
    "\n",
    "max_frac = model.params.max_frac\n",
    "for row in range(network.shape[0]):\n",
    "    if (maximum := network[row].sum()) > max_frac:\n",
    "        network[row] *= max_frac / maximum\n",
    "\n",
    "print(f\"Upper left corner of network looks like this (after limiting to max_frac):\\n{network[:4,:4]}\")"
   ]
  },
  {
   "cell_type": "markdown",
   "metadata": {},
   "source": [
    "## Transmission Part II - Tick/Step Processing Phase\n",
    "\n",
    "On a tick we accumulate the contagion in each node - currently 1 unit per infectious agent - with `np.add.at()` ([documentation](https://numpy.org/doc/stable/reference/generated/numpy.ufunc.at.html)).\n",
    "\n",
    "We calculate the incoming and outgoing contagion by multiplying by the network connection values.\n",
    "\n",
    "We determine the force of infection per agent in each node by multiplying by the seasonally adjusted $\\beta$ and normalizing by the node population. $\\beta_{eff}$ is currently a scalar but it would be trivial to add a `beta` property to `model.nodes` and have per node betas.\n",
    "\n",
    "We then visit each susceptible agent and draw against the force of infection to determine transmission and draw for duration of infection if transmission occurs.\n",
    "\n",
    "We will also track incidence by node and tick."
   ]
  },
  {
   "cell_type": "code",
   "execution_count": 22,
   "metadata": {},
   "outputs": [],
   "source": [
    "@nb.njit(\n",
    "    (nb.uint8[:], nb.uint16[:], nb.float32[:], nb.uint8[:], nb.uint32, nb.float32, nb.float32, nb.uint32[:]),\n",
    "    parallel=True,\n",
    "    nogil=True,\n",
    "    cache=True,\n",
    ")\n",
    "def tx_inner(susceptibilities, nodeids, forces, etimers, count, exp_mean, exp_std, incidence):\n",
    "    for i in nb.prange(count):\n",
    "        susceptibility = susceptibilities[i]\n",
    "        if susceptibility > 0:\n",
    "            nodeid = nodeids[i]\n",
    "            force = susceptibility * forces[nodeid] # force of infection attenuated by personal susceptibility\n",
    "            if (force > 0) and (np.random.random_sample() < force):  # draw random number < force means infection\n",
    "                susceptibilities[i] = 0.0  # set susceptibility to 0.0\n",
    "                # set exposure timer for newly infected individuals to a draw from a normal distribution, must be at least 1 day\n",
    "                etimers[i] = np.maximum(np.uint8(1), np.uint8(np.round(np.random.normal(exp_mean, exp_std))))\n",
    "                incidence[nodeid] += 1\n",
    "\n",
    "    return\n",
    "\n",
    "model.nodes.add_vector_property(\"cases\", model.params.ticks, dtype=np.uint32)\n",
    "model.nodes.add_scalar_property(\"forces\", dtype=np.float32)\n",
    "model.nodes.add_vector_property(\"incidence\", model.params.ticks, dtype=np.uint32)\n",
    "\n",
    "def do_transmission_update(model, tick) -> None:\n",
    "\n",
    "    nodes = model.nodes\n",
    "    population = model.population\n",
    "\n",
    "    contagion = nodes.cases[:, tick]    # we will accumulate current infections into this array\n",
    "    nodeids = population.nodeid[:population.count]  # just look at the active agent indices\n",
    "    itimers = population.itimer[:population.count] # just look at the active agent indices\n",
    "    np.add.at(contagion, nodeids[itimers > 0], 1)   # increment by the number of active agents with non-zero itimer\n",
    "\n",
    "    network = nodes.network\n",
    "    transfer = (contagion * network).round().astype(np.uint32)\n",
    "    contagion += transfer.sum(axis=1)   # increment by incoming \"migration\"\n",
    "    contagion -= transfer.sum(axis=0)   # decrement by outgoing \"migration\"\n",
    "\n",
    "    forces = nodes.forces\n",
    "    beta_effective = model.params.beta + model.params.seasonality_factor * np.sin(2 * np.pi * (tick - model.params.seasonality_phase) / 365)\n",
    "    np.multiply(contagion, beta_effective, out=forces)\n",
    "    np.divide(forces, model.nodes.population[:, tick], out=forces)  # per agent force of infection\n",
    "\n",
    "    tx_inner(\n",
    "        population.susceptibility,\n",
    "        population.nodeid,\n",
    "        forces,\n",
    "        population.etimer,\n",
    "        population.count,\n",
    "        model.params.exp_mean,\n",
    "        model.params.exp_std,\n",
    "        model.nodes.incidence[:, tick],\n",
    "    )\n",
    "\n",
    "    return\n"
   ]
  },
  {
   "cell_type": "markdown",
   "metadata": {},
   "source": [
    "## SIAs\n",
    "\n",
    "Let's try an SIA 10 days into the simulation.\n",
    "\n",
    "_Consider sorting the SIAs by tick in order to be able to just check the first N campaigns in the list._\n"
   ]
  },
  {
   "cell_type": "code",
   "execution_count": 23,
   "metadata": {},
   "outputs": [],
   "source": [
    "sias = [(10, [1, 3, 5], 0.80)]  # Tick 10, nodes 1, 3, and 5, 80% coverage.\n",
    "\n",
    "@nb.njit((nb.uint32, nb.uint8[:], nb.uint16[:], nb.uint8[:], nb.float32), parallel=True)\n",
    "def _do_sia(count, targets, nodeids, susceptibilities, coverage):\n",
    "    for i in nb.prange(count):\n",
    "        if targets[nodeids[i]]:\n",
    "            if susceptibilities[i] > 0:\n",
    "                if np.random.random_sample() < coverage:\n",
    "                    susceptibilities[i] = 0\n",
    "    return\n",
    "\n",
    "def do_sias(model, tick):\n",
    "    while len(sias) > 0 and sias[0][0] == tick:\n",
    "        campaign = sias.pop(0)\n",
    "        print(f\"Running SIA {campaign=} at tick {tick}\")\n",
    "        (day, nodes, coverage) = campaign\n",
    "        targets = np.zeros(model.nodes.count, dtype=np.uint8)\n",
    "        targets[nodes] = 1\n",
    "        _do_sia(model.population.count, targets, model.population.nodeid, model.population.susceptibility, coverage)"
   ]
  },
  {
   "cell_type": "markdown",
   "metadata": {},
   "source": [
    "## Tick/Step Processing Phases\n",
    "\n",
    "The phases (sub-steps) of the processing on each tick go here as they are implemented."
   ]
  },
  {
   "cell_type": "code",
   "execution_count": 24,
   "metadata": {},
   "outputs": [],
   "source": [
    "# consider `step_functions` rather than `phases` for the following\n",
    "model.phases = [\n",
    "    propagate_population,\n",
    "    do_births, # type: ignore\n",
    "    do_non_disease_deaths, # type: ignore\n",
    "    do_infection_update, # type: ignore\n",
    "    do_exposure_update, # type: ignore\n",
    "    do_transmission_update, # type: ignore\n",
    "    do_ri, # type: ignore\n",
    "    do_susceptibility_decay, # type: ignore\n",
    "    do_sias, # type: ignore\n",
    "]\n"
   ]
  },
  {
   "cell_type": "markdown",
   "metadata": {},
   "source": [
    "## Running the Simulation\n",
    "\n",
    "We iterate over the specified number of ticks, keeping track, in `metrics`, of the time spent in each phase at each tick."
   ]
  },
  {
   "cell_type": "code",
   "execution_count": 27,
   "metadata": {},
   "outputs": [
    {
     "name": "stderr",
     "output_type": "stream",
     "text": [
      "  0%|          | 0/3650 [00:00<?, ?it/s]\n"
     ]
    },
    {
     "ename": "TypeError",
     "evalue": "No matching definition for argument type(s) int64, array(uint8, 1d, C), array(uint8, 1d, C), array(int32, 1d, C), int64",
     "output_type": "error",
     "traceback": [
      "\u001b[0;31m---------------------------------------------------------------------------\u001b[0m",
      "\u001b[0;31mTypeError\u001b[0m                                 Traceback (most recent call last)",
      "Cell \u001b[0;32mIn[27], line 10\u001b[0m\n\u001b[1;32m      8\u001b[0m \u001b[38;5;28;01mfor\u001b[39;00m phase \u001b[38;5;129;01min\u001b[39;00m model\u001b[38;5;241m.\u001b[39mphases:\n\u001b[1;32m      9\u001b[0m     tstart \u001b[38;5;241m=\u001b[39m datetime\u001b[38;5;241m.\u001b[39mnow(tz\u001b[38;5;241m=\u001b[39m\u001b[38;5;28;01mNone\u001b[39;00m)  \u001b[38;5;66;03m# noqa: DTZ005\u001b[39;00m\n\u001b[0;32m---> 10\u001b[0m     \u001b[43mphase\u001b[49m\u001b[43m(\u001b[49m\u001b[43mmodel\u001b[49m\u001b[43m,\u001b[49m\u001b[43m \u001b[49m\u001b[43mtick\u001b[49m\u001b[43m)\u001b[49m\n\u001b[1;32m     11\u001b[0m     tfinish \u001b[38;5;241m=\u001b[39m datetime\u001b[38;5;241m.\u001b[39mnow(tz\u001b[38;5;241m=\u001b[39m\u001b[38;5;28;01mNone\u001b[39;00m)  \u001b[38;5;66;03m# noqa: DTZ005\u001b[39;00m\n\u001b[1;32m     12\u001b[0m     delta \u001b[38;5;241m=\u001b[39m tfinish \u001b[38;5;241m-\u001b[39m tstart\n",
      "Cell \u001b[0;32mIn[26], line 12\u001b[0m, in \u001b[0;36mdo_ri\u001b[0;34m(model, tick)\u001b[0m\n\u001b[1;32m     11\u001b[0m \u001b[38;5;28;01mdef\u001b[39;00m \u001b[38;5;21mdo_ri\u001b[39m(model, tick):\n\u001b[0;32m---> 12\u001b[0m     \u001b[43m_update_susceptibility_based_on_ri_timer\u001b[49m\u001b[43m(\u001b[49m\u001b[43mmodel\u001b[49m\u001b[38;5;241;43m.\u001b[39;49m\u001b[43mpopulation\u001b[49m\u001b[38;5;241;43m.\u001b[39;49m\u001b[43mcount\u001b[49m\u001b[43m,\u001b[49m\u001b[43m \u001b[49m\u001b[43mmodel\u001b[49m\u001b[38;5;241;43m.\u001b[39;49m\u001b[43mpopulation\u001b[49m\u001b[38;5;241;43m.\u001b[39;49m\u001b[43mri_timer\u001b[49m\u001b[43m,\u001b[49m\u001b[43m \u001b[49m\u001b[43mmodel\u001b[49m\u001b[38;5;241;43m.\u001b[39;49m\u001b[43mpopulation\u001b[49m\u001b[38;5;241;43m.\u001b[39;49m\u001b[43msusceptibility\u001b[49m\u001b[43m,\u001b[49m\u001b[43m \u001b[49m\u001b[43mmodel\u001b[49m\u001b[38;5;241;43m.\u001b[39;49m\u001b[43mpopulation\u001b[49m\u001b[38;5;241;43m.\u001b[39;49m\u001b[43mdob\u001b[49m\u001b[43m,\u001b[49m\u001b[43m \u001b[49m\u001b[43mtick\u001b[49m\u001b[43m)\u001b[49m\n\u001b[1;32m     13\u001b[0m     \u001b[38;5;28;01mreturn\u001b[39;00m\n",
      "File \u001b[0;32m~/.local/lib/python3.10/site-packages/numba-0.60.0-py3.10-linux-x86_64.egg/numba/core/dispatcher.py:658\u001b[0m, in \u001b[0;36m_DispatcherBase._explain_matching_error\u001b[0;34m(self, *args, **kws)\u001b[0m\n\u001b[1;32m    655\u001b[0m args \u001b[38;5;241m=\u001b[39m [\u001b[38;5;28mself\u001b[39m\u001b[38;5;241m.\u001b[39mtypeof_pyval(a) \u001b[38;5;28;01mfor\u001b[39;00m a \u001b[38;5;129;01min\u001b[39;00m args]\n\u001b[1;32m    656\u001b[0m msg \u001b[38;5;241m=\u001b[39m (\u001b[38;5;124m\"\u001b[39m\u001b[38;5;124mNo matching definition for argument type(s) \u001b[39m\u001b[38;5;132;01m%s\u001b[39;00m\u001b[38;5;124m\"\u001b[39m\n\u001b[1;32m    657\u001b[0m        \u001b[38;5;241m%\u001b[39m \u001b[38;5;124m'\u001b[39m\u001b[38;5;124m, \u001b[39m\u001b[38;5;124m'\u001b[39m\u001b[38;5;241m.\u001b[39mjoin(\u001b[38;5;28mmap\u001b[39m(\u001b[38;5;28mstr\u001b[39m, args)))\n\u001b[0;32m--> 658\u001b[0m \u001b[38;5;28;01mraise\u001b[39;00m \u001b[38;5;167;01mTypeError\u001b[39;00m(msg)\n",
      "\u001b[0;31mTypeError\u001b[0m: No matching definition for argument type(s) int64, array(uint8, 1d, C), array(uint8, 1d, C), array(int32, 1d, C), int64"
     ]
    }
   ],
   "source": [
    "from datetime import datetime\n",
    "\n",
    "from tqdm import tqdm\n",
    "\n",
    "model.metrics = []\n",
    "for tick in tqdm(range(model.params.ticks)):\n",
    "    metrics = [tick]\n",
    "    for phase in model.phases:\n",
    "        tstart = datetime.now(tz=None)  # noqa: DTZ005\n",
    "        phase(model, tick)\n",
    "        tfinish = datetime.now(tz=None)  # noqa: DTZ005\n",
    "        delta = tfinish - tstart\n",
    "        metrics.append(delta.seconds * 1_000_000 + delta.microseconds)  # delta is a timedelta object, let's convert it to microseconds\n",
    "    model.metrics.append(metrics)\n"
   ]
  },
  {
   "cell_type": "markdown",
   "metadata": {},
   "source": [
    "## Final Population\n",
    "\n",
    "Let's take a quick look at the final population size accounting for births over the course of the simulation. This does _not_ account for non-disease deaths so we are looking at the maximum number of unique agents over the simulation."
   ]
  },
  {
   "cell_type": "code",
   "execution_count": null,
   "metadata": {},
   "outputs": [],
   "source": [
    "print(f\"{model.population.count=:,} (vs. requested capacity {model.population.capacity=:,})\")"
   ]
  },
  {
   "cell_type": "markdown",
   "metadata": {},
   "source": [
    "## Timing Metrics Part I\n",
    "\n",
    "Let's convert the timing information to a DataFrame and peek at the first few entries."
   ]
  },
  {
   "cell_type": "code",
   "execution_count": null,
   "metadata": {},
   "outputs": [],
   "source": [
    "import pandas as pd\n",
    "\n",
    "metrics = pd.DataFrame(model.metrics, columns=[\"tick\"] + [phase.__name__ for phase in model.phases])\n",
    "metrics.head()"
   ]
  },
  {
   "cell_type": "markdown",
   "metadata": {},
   "source": [
    "## Timing Metrics Part II\n",
    "\n",
    "Let's take a look at where we spend our processing time."
   ]
  },
  {
   "cell_type": "code",
   "execution_count": null,
   "metadata": {},
   "outputs": [],
   "source": [
    "import matplotlib.pyplot as plt\n",
    "\n",
    "plot_columns = metrics.columns[1:]\n",
    "sum_columns = metrics[plot_columns].sum()\n",
    "print(sum_columns)\n",
    "print(\"=\" * 33)\n",
    "print(f\"Total: {sum_columns.sum():26,}\")\n",
    "plt.figure(figsize=(8, 8))\n",
    "plt.pie(sum_columns, labels=sum_columns.index, autopct=\"%1.1f%%\")\n",
    "plt.title(\"Sum of Each Column\")\n",
    "plt.show()"
   ]
  },
  {
   "cell_type": "markdown",
   "metadata": {},
   "source": [
    "## Validation - Population Over Time\n",
    "\n",
    "Let's make sure that our population is growing over time by plotting the population for a few nodes."
   ]
  },
  {
   "cell_type": "code",
   "execution_count": null,
   "metadata": {},
   "outputs": [],
   "source": [
    "from matplotlib import pyplot as plt\n",
    "\n",
    "nodes_to_plot = [0, 1, 2, 3]\n",
    "node_population = model.nodes.population[nodes_to_plot, :]\n",
    "\n",
    "plt.figure(figsize=(10, 6))\n",
    "for i, node in enumerate(nodes_to_plot):\n",
    "    plt.plot(range(model.params.ticks + 1), node_population[i, :], label=f\"Node {node}\")\n",
    "\n",
    "plt.xlabel(\"Tick\")\n",
    "plt.ylabel(\"Population\")\n",
    "plt.title(\"Node Population Over Time\")\n",
    "plt.legend()\n",
    "plt.show()"
   ]
  },
  {
   "cell_type": "markdown",
   "metadata": {},
   "source": [
    "## Validation - Births\n",
    "\n",
    "Let's see if our births over time look right. Given a fixed CBR and a growing population, we should generally have more births later in the simulation."
   ]
  },
  {
   "cell_type": "code",
   "execution_count": null,
   "metadata": {},
   "outputs": [],
   "source": [
    "from matplotlib import pyplot as plt\n",
    "\n",
    "node_births = model.nodes.births[nodes_to_plot, :]\n",
    "\n",
    "plt.figure(figsize=(10, 6))\n",
    "for i, node in enumerate(nodes_to_plot):\n",
    "    plt.plot(range((model.params.ticks + 364) // 365), node_births[i, :], label=f\"Node {node}\")\n",
    "\n",
    "plt.xlabel(\"Year\")\n",
    "plt.ylabel(\"Births\")\n",
    "plt.title(\"Node Births Over Time\")\n",
    "plt.legend()\n",
    "plt.show()"
   ]
  },
  {
   "cell_type": "markdown",
   "metadata": {},
   "source": [
    "## Validation - Non-Disease Deaths\n",
    "\n",
    "Let's see if our non-disease deaths look right over time."
   ]
  },
  {
   "cell_type": "code",
   "execution_count": null,
   "metadata": {},
   "outputs": [],
   "source": [
    "from matplotlib import pyplot as plt\n",
    "\n",
    "node_deaths = model.nodes.deaths[nodes_to_plot, :]\n",
    "\n",
    "plt.figure(figsize=(10, 6))\n",
    "for i, node in enumerate(nodes_to_plot):\n",
    "    plt.plot(range((model.params.ticks + 364) // 365), node_deaths[i, :], label=f\"Node {node}\")\n",
    "\n",
    "plt.xlabel(\"Year\")\n",
    "plt.ylabel(\"Deaths\")\n",
    "plt.title(\"Node Deaths Over Time\")\n",
    "plt.legend()\n",
    "plt.show()"
   ]
  },
  {
   "cell_type": "markdown",
   "metadata": {},
   "source": [
    "## Cases Over Time"
   ]
  },
  {
   "cell_type": "code",
   "execution_count": null,
   "metadata": {},
   "outputs": [],
   "source": [
    "from matplotlib import pyplot as plt\n",
    "\n",
    "group = 0\n",
    "size = 16\n",
    "nodes_to_plot = list(range(size*group,size*(group+1)))\n",
    "nodes_to_plot = [ 0, 1, 2, 3 ]\n",
    "\n",
    "window_start = 0\n",
    "window_end = 180\n",
    "\n",
    "plt.figure(figsize=(10, 6))\n",
    "for i, node in enumerate(nodes_to_plot):\n",
    "    plt.plot(range(window_start,window_end), model.nodes.cases[i, window_start:window_end], label=f\"Node {node}\")\n",
    "\n",
    "plt.xlabel(\"Tick\")\n",
    "plt.ylabel(\"Cases\")\n",
    "plt.title(\"Node Cases Over Time\")\n",
    "plt.legend()\n",
    "plt.show()"
   ]
  },
  {
   "cell_type": "markdown",
   "metadata": {},
   "source": [
    "## Incidence Over Time"
   ]
  },
  {
   "cell_type": "code",
   "execution_count": null,
   "metadata": {},
   "outputs": [],
   "source": [
    "from matplotlib import pyplot as plt\n",
    "\n",
    "group = 0\n",
    "size = 16\n",
    "nodes_to_plot = list(range(size*group,size*(group+1)))\n",
    "nodes_to_plot = [ 0, 1, 2, 3 ]\n",
    "\n",
    "window_start = 0\n",
    "window_end = 180\n",
    "\n",
    "plt.figure(figsize=(10, 6))\n",
    "for i, node in enumerate(nodes_to_plot):\n",
    "    plt.plot(range(window_start,window_end), model.nodes.incidence[i, window_start:window_end], label=f\"Node {node}\")\n",
    "\n",
    "plt.xlabel(\"Tick\")\n",
    "plt.ylabel(\"Incidence\")\n",
    "plt.title(\"Node Incidence Over Time\")\n",
    "plt.legend()\n",
    "plt.show()"
   ]
  },
  {
   "cell_type": "code",
   "execution_count": null,
   "metadata": {},
   "outputs": [],
   "source": [
    "import matplotlib.pyplot as plt\n",
    "\n",
    "plt.hist(initial_populations)\n",
    "plt.xlabel('Population')\n",
    "plt.ylabel('Frequency')\n",
    "plt.title('Histogram of Initial Populations')\n",
    "plt.yscale('log')  # Set y-axis to log scale\n",
    "plt.show()"
   ]
  }
 ],
 "metadata": {
  "kernelspec": {
   "display_name": ".venv",
   "language": "python",
   "name": "python3"
  },
  "language_info": {
   "codemirror_mode": {
    "name": "ipython",
    "version": 3
   },
   "file_extension": ".py",
   "mimetype": "text/x-python",
   "name": "python",
   "nbconvert_exporter": "python",
   "pygments_lexer": "ipython3",
   "version": "3.10.13"
  }
 },
 "nbformat": 4,
 "nbformat_minor": 2
}
