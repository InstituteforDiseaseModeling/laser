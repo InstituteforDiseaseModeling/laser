{
 "cells": [
  {
   "cell_type": "markdown",
   "id": "fca365bc",
   "metadata": {},
   "source": [
    "# Getting to Fast\n",
    "\n",
    "Let's take a look at some variations on updating state in a LASER model.\n",
    "\n",
    "The basic idea is to identify agents in our population who meet some criteria and then update their state. In general we can call this query-process.\n",
    "\n",
    "Here are some baseline properties and values:"
   ]
  },
  {
   "cell_type": "code",
   "execution_count": 9,
   "id": "0fd652d3",
   "metadata": {},
   "outputs": [],
   "source": [
    "from time import perf_counter_ns\n",
    "import numpy as np\n",
    "\n",
    "count = 50_000_000  # About 10 seconds on 2-core Codespace\n",
    "velocity = np.random.rand(count) * 20  # [0, 20)\n",
    "state = np.zeros(count)\n",
    "threshold = 10.0\n",
    "timings = {}"
   ]
  },
  {
   "cell_type": "markdown",
   "id": "8d396b6d",
   "metadata": {},
   "source": [
    "## Naïve Python\n",
    "\n",
    "First, let's just loop over our properties, check for the condition we want `velocity > threshold` and update the state when true (`state = 1`)."
   ]
  },
  {
   "cell_type": "code",
   "execution_count": 10,
   "id": "3ccb0a08",
   "metadata": {},
   "outputs": [
    {
     "name": "stdout",
     "output_type": "stream",
     "text": [
      "Python for loop took   11,495.112 ms\n"
     ]
    }
   ],
   "source": [
    "py_state = np.zeros(count)\n",
    "t_start = perf_counter_ns()\n",
    "for i in range(count):\n",
    "    if velocity[i] > threshold:\n",
    "        py_state[i] = 1\n",
    "t_finish = perf_counter_ns()\n",
    "elapsed = t_finish - t_start\n",
    "print(f\"Python for loop took {elapsed/1e6:12,.3f} ms\")\n",
    "timings[\"for loop\"] = elapsed"
   ]
  },
  {
   "cell_type": "markdown",
   "id": "ac3496f0",
   "metadata": {},
   "source": [
    "## NumPy\n",
    "\n",
    "Next, let's look at a common NumPy idiom.\n",
    "\n",
    "NumPy should be _much_ faster than the naïve Python for loop. However, a drawback to this idiom with LASER models is that often we have millions of agents so the query expression, `velocity > threshold`, creates a temporary Boolean array with the same number of entries as agents. This can easily be many megabytes for country level models up to gigabytes for continental scale modeling. Multi-part expressions can be even larger with temporaries for the sub-parts, e.g. `(age > 5) and (vaccinated == 0)` which would allocate 3x the memory."
   ]
  },
  {
   "cell_type": "code",
   "execution_count": 11,
   "id": "5546d098",
   "metadata": {},
   "outputs": [
    {
     "name": "stdout",
     "output_type": "stream",
     "text": [
      "NumPy vectorized took      316.748 ms\n",
      "np.all(np_state == py_state)=np.True_\n"
     ]
    }
   ],
   "source": [
    "np_state = np.zeros(count)\n",
    "t_start = perf_counter_ns()\n",
    "np_state[velocity > threshold] = 1\n",
    "t_finish = perf_counter_ns()\n",
    "elapsed = t_finish - t_start\n",
    "print(f\"NumPy vectorized took {elapsed/1e6:12,.3f} ms\")\n",
    "print(f\"{np.all(np_state == py_state)=}\")\n",
    "timings[\"NumPy\"] = elapsed"
   ]
  },
  {
   "cell_type": "markdown",
   "id": "fff0e6f2",
   "metadata": {},
   "source": [
    "## Numba\n",
    "\n",
    "Now, let's apply Numba to the challenge - compiled, parallelized code. Results will vary depending on the number of CPU cores available on the system.\n",
    "\n",
    "An additional significant advantage of Numba compiled code is that the results of the query are never stored. This is appropriate for an ephemeral query which is calculated, used to identify target agents, and then discarded. This alone save megabytes of memory alocations and RAM bandwidth.\n",
    "\n",
    "Numba compiled code is generally only useful for functions which take more than 1 second to complete since there is overhead to the compilation process. To simulate what _subsequent_ calls to our function would look like, we will first apply our select and update functions on a dummy array."
   ]
  },
  {
   "cell_type": "code",
   "execution_count": 12,
   "id": "f195ae48",
   "metadata": {},
   "outputs": [
    {
     "name": "stdout",
     "output_type": "stream",
     "text": [
      "Numba compiled_single took       68.517 ms\n",
      "np.all(tmp_state == py_state)=np.True_\n"
     ]
    }
   ],
   "source": [
    "import numba as nb\n",
    "\n",
    "@nb.njit(parallel=False)\n",
    "def compiled_single(count, velocity, threshold, state):\n",
    "    for i in nb.prange(count):\n",
    "        if velocity[i] > threshold:\n",
    "            state[i] = 1\n",
    "\n",
    "compiled_single(16, velocity=np.random.rand(16)*20, threshold=10.0, state=np.zeros(count))\n",
    "\n",
    "tmp_state = np.zeros(count)\n",
    "t_start = perf_counter_ns()\n",
    "compiled_single(count, velocity=velocity, threshold=threshold, state=tmp_state)\n",
    "t_finish = perf_counter_ns()\n",
    "elapsed = t_finish - t_start\n",
    "print(f\"Numba compiled_single took {elapsed/1e6:12,.3f} ms\")\n",
    "print(f\"{np.all(tmp_state == py_state)=}\")\n",
    "timings[\"Numba (1 core)\"] = elapsed"
   ]
  },
  {
   "cell_type": "code",
   "execution_count": 13,
   "id": "1788254c",
   "metadata": {},
   "outputs": [
    {
     "name": "stdout",
     "output_type": "stream",
     "text": [
      "Numba compiled_multi took       29.577 ms\n",
      "np.all(tmp_state == py_state)=np.True_\n"
     ]
    }
   ],
   "source": [
    "@nb.njit(parallel=True)\n",
    "def compiled_multi(count, velocity, threshold, state):\n",
    "    for i in nb.prange(count):\n",
    "        if velocity[i] > threshold:\n",
    "            state[i] = 1\n",
    "\n",
    "compiled_multi(16, velocity=np.random.rand(16)*20, threshold=10.0, state=np.zeros(count))\n",
    "\n",
    "tmp_state = np.zeros(count)\n",
    "t_start = perf_counter_ns()\n",
    "compiled_multi(count, velocity=velocity, threshold=threshold, state=tmp_state)\n",
    "t_finish = perf_counter_ns()\n",
    "elapsed = t_finish - t_start\n",
    "print(f\"Numba compiled_multi took {elapsed/1e6:12,.3f} ms\")\n",
    "print(f\"{np.all(tmp_state == py_state)=}\")\n",
    "timings[\"Numba (parallel)\"] = elapsed"
   ]
  },
  {
   "cell_type": "code",
   "execution_count": 14,
   "id": "0a3d9d14",
   "metadata": {},
   "outputs": [
    {
     "name": "stdout",
     "output_type": "stream",
     "text": [
      "nb.get_num_threads()=8\n",
      "Numba compiled took       27.863 ms\n",
      "np.all(nb_state == py_state)=np.True_\n"
     ]
    }
   ],
   "source": [
    "from laser_core.perf import apply\n",
    "\n",
    "print(f\"{nb.get_num_threads()=}\")\n",
    "\n",
    "def select(i, velocity, threshold):\n",
    "    return velocity[i] > threshold\n",
    "\n",
    "def update(i, state):\n",
    "    state[i] = 1\n",
    "\n",
    "apply(select, update, 16, velocity=np.random.rand(16) * 20, threshold=10.0, state=np.zeros(count))\n",
    "\n",
    "nb_state = np.zeros(count)\n",
    "\n",
    "t_start = perf_counter_ns()\n",
    "apply(select, update, count, velocity=velocity, threshold=threshold, state=nb_state)\n",
    "t_finish = perf_counter_ns()\n",
    "elapsed = t_finish - t_start\n",
    "print(f\"Numba compiled took {elapsed/1e6:12,.3f} ms\")\n",
    "print(f\"{np.all(nb_state == py_state)=}\")\n",
    "timings[\"Numba (apply)\"] = elapsed"
   ]
  },
  {
   "cell_type": "markdown",
   "id": "cb054d48",
   "metadata": {},
   "source": [
    "## `numbafy()` - An Alternative to `apply()`\n",
    "\n",
    "`apply()` could be a bit verbose for usage in multiple places, so there is an alternative equivalent, `numbafy()` which returns a function to be called later rather than executing the query+update immediately. In this example we will simulate using `numbafy()` to add functionality to a class."
   ]
  },
  {
   "cell_type": "code",
   "execution_count": 15,
   "id": "161ae6bc",
   "metadata": {},
   "outputs": [
    {
     "name": "stdout",
     "output_type": "stream",
     "text": [
      "Numbafy compiled took       20.441 ms\n",
      "np.all(da_state == py_state)=np.True_\n"
     ]
    }
   ],
   "source": [
    "from laser_core.perf import numbafy\n",
    "\n",
    "class Component():\n",
    "    def __init__(self):\n",
    "\n",
    "        def select(i, velocity, threshold):\n",
    "            return velocity[i] > threshold\n",
    "\n",
    "        def update(i, state):\n",
    "            state[i] = 1\n",
    "\n",
    "        self.do_action = numbafy(select, update)\n",
    "\n",
    "        return\n",
    "\n",
    "component = Component()\n",
    "\n",
    "# \"Warm up\" Numba\n",
    "component.do_action(16, velocity=np.random.rand(16) * 20, threshold=10.0, state=np.zeros(16))\n",
    "\n",
    "da_state = np.zeros(count)\n",
    "t_start = perf_counter_ns()\n",
    "component.do_action(count, velocity=velocity, threshold=threshold, state=da_state)\n",
    "t_finish = perf_counter_ns()\n",
    "elapsed = t_finish - t_start\n",
    "print(f\"Numbafy compiled took {elapsed/1e6:12,.3f} ms\")\n",
    "print(f\"{np.all(da_state == py_state)=}\")\n",
    "timings[\"Numba (numbafy)\"] = elapsed"
   ]
  },
  {
   "cell_type": "markdown",
   "id": "574339ec",
   "metadata": {},
   "source": [
    "## Results"
   ]
  },
  {
   "cell_type": "code",
   "execution_count": 16,
   "id": "35ebbb2d",
   "metadata": {},
   "outputs": [
    {
     "name": "stdout",
     "output_type": "stream",
     "text": [
      "Iterating over 50,000,000 agents:\n",
      "for loop            :   11,495.112 ms\n",
      "NumPy               :      316.748 ms\n",
      "Numba (1 core)      :       68.517 ms\n",
      "Numba (parallel)    :       29.577 ms\n",
      "Numba (apply)       :       27.863 ms\n",
      "Numba (numbafy)     :       20.441 ms\n"
     ]
    }
   ],
   "source": [
    "print(f\"Iterating over {count:,} agents:\")\n",
    "for k, v in timings.items():\n",
    "    print(f\"{k:20}: {v/1e6:12,.3f} ms\")"
   ]
  }
 ],
 "metadata": {
  "kernelspec": {
   "display_name": "Python 3",
   "language": "python",
   "name": "python3"
  },
  "language_info": {
   "codemirror_mode": {
    "name": "ipython",
    "version": 3
   },
   "file_extension": ".py",
   "mimetype": "text/x-python",
   "name": "python",
   "nbconvert_exporter": "python",
   "pygments_lexer": "ipython3",
   "version": "3.12.1"
  }
 },
 "nbformat": 4,
 "nbformat_minor": 5
}
