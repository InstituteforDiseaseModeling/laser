{
 "cells": [
  {
   "cell_type": "markdown",
   "id": "fca365bc",
   "metadata": {},
   "source": [
    "# Getting to Fast\n",
    "\n",
    "Let's take a look at some variations on updating state in a LASER model.\n",
    "\n",
    "The basic idea is to identify agents in our population who meet some criteria and then update their state. In general we can call this query-process.\n",
    "\n",
    "Here are some baseline properties and values:"
   ]
  },
  {
   "cell_type": "code",
   "execution_count": 1,
   "id": "0fd652d3",
   "metadata": {},
   "outputs": [],
   "source": [
    "from time import perf_counter_ns\n",
    "import numpy as np\n",
    "\n",
    "count = 200_000_000  # About 10 seconds on 2-core Codespace\n",
    "velocity = np.random.rand(count) * 20  # [0, 20)\n",
    "state = np.zeros(count)\n",
    "threshold = 10.0\n",
    "timings = {}"
   ]
  },
  {
   "cell_type": "markdown",
   "id": "8d396b6d",
   "metadata": {},
   "source": [
    "## Naïve Python\n",
    "\n",
    "First, let's just loop over our properties, check for the condition we want `velocity > threshold` and update the state when true (`state = 1`)."
   ]
  },
  {
   "cell_type": "code",
   "execution_count": 2,
   "id": "3ccb0a08",
   "metadata": {},
   "outputs": [
    {
     "name": "stdout",
     "output_type": "stream",
     "text": [
      "Python for loop took   44,867.320 ms\n"
     ]
    }
   ],
   "source": [
    "py_state = np.zeros(count)\n",
    "t_start = perf_counter_ns()\n",
    "for i in range(count):\n",
    "    if velocity[i] > threshold:\n",
    "        py_state[i] = 1\n",
    "t_finish = perf_counter_ns()\n",
    "elapsed = t_finish - t_start\n",
    "print(f\"Python for loop took {elapsed / 1e6:12,.3f} ms\")\n",
    "timings[\"for loop\"] = elapsed"
   ]
  },
  {
   "cell_type": "markdown",
   "id": "ac3496f0",
   "metadata": {},
   "source": [
    "## NumPy\n",
    "\n",
    "Next, let's look at a common NumPy idiom.\n",
    "\n",
    "NumPy should be _much_ faster than the naïve Python for loop. However, a drawback to this idiom with LASER models is that often we have millions of agents so the query expression, `velocity > threshold`, creates a temporary Boolean array with the same number of entries as agents. This can easily be many megabytes for country level models up to gigabytes for continental scale modeling. Multi-part expressions can be even larger with temporaries for the sub-parts, e.g. `(age > 5) and (vaccinated == 0)` which would allocate 3x the memory."
   ]
  },
  {
   "cell_type": "code",
   "execution_count": 3,
   "id": "5546d098",
   "metadata": {},
   "outputs": [
    {
     "name": "stdout",
     "output_type": "stream",
     "text": [
      "NumPy vectorized took    1,167.243 ms\n",
      "np.all(np_state == py_state)=np.True_\n"
     ]
    }
   ],
   "source": [
    "timing = []\n",
    "for _ in range(10):\n",
    "    np_state = np.zeros(count)\n",
    "    t_start = perf_counter_ns()\n",
    "    np_state[velocity > threshold] = 1\n",
    "    t_finish = perf_counter_ns()\n",
    "    elapsed = t_finish - t_start\n",
    "    timing.append(elapsed)\n",
    "elapsed = min(timing)\n",
    "print(f\"NumPy vectorized took {elapsed / 1e6:12,.3f} ms\")\n",
    "print(f\"{np.all(np_state == py_state)=}\")\n",
    "timings[\"NumPy\"] = elapsed"
   ]
  },
  {
   "cell_type": "markdown",
   "id": "fff0e6f2",
   "metadata": {},
   "source": [
    "## Numba\n",
    "\n",
    "Now, let's apply Numba to the challenge - compiled, parallelized code. Results will vary depending on the number of CPU cores available on the system.\n",
    "\n",
    "An additional significant advantage of Numba compiled code is that the results of the query are never stored. This is appropriate for an ephemeral query which is calculated, used to identify target agents, and then discarded. This alone save megabytes of memory alocations and RAM bandwidth.\n",
    "\n",
    "Numba compiled code is generally only useful for functions which take more than 1 second to complete since there is overhead to the compilation process. To simulate what _subsequent_ calls to our function would look like, we will first apply our select and update functions on a dummy array.\n",
    "\n",
    "We will start with the direct Numba code including the `nb.njit` and in this case, just for comparison, we will turn parallelization _off_."
   ]
  },
  {
   "cell_type": "code",
   "execution_count": 4,
   "id": "f195ae48",
   "metadata": {},
   "outputs": [
    {
     "name": "stdout",
     "output_type": "stream",
     "text": [
      "Numba compiled_single took      253.383 ms\n",
      "np.all(tmp_state == py_state)=np.True_\n"
     ]
    }
   ],
   "source": [
    "import numba as nb\n",
    "\n",
    "\n",
    "@nb.njit(parallel=False)\n",
    "def compiled_single(count, velocity, threshold, state):\n",
    "    for i in range(count):\n",
    "        if velocity[i] > threshold:\n",
    "            state[i] = 1\n",
    "\n",
    "\n",
    "compiled_single(16, velocity=np.random.rand(16) * 20, threshold=10.0, state=np.zeros(count))\n",
    "\n",
    "timing = []\n",
    "for _ in range(10):\n",
    "    tmp_state = np.zeros(count)\n",
    "    t_start = perf_counter_ns()\n",
    "    compiled_single(count, velocity=velocity, threshold=threshold, state=tmp_state)\n",
    "    t_finish = perf_counter_ns()\n",
    "    elapsed = t_finish - t_start\n",
    "    timing.append(elapsed)\n",
    "elapsed = min(timing)\n",
    "print(f\"Numba compiled_single took {elapsed / 1e6:12,.3f} ms\")\n",
    "print(f\"{np.all(tmp_state == py_state)=}\")\n",
    "timings[\"Numba (1 core)\"] = elapsed"
   ]
  },
  {
   "cell_type": "markdown",
   "id": "7663adaf",
   "metadata": {},
   "source": [
    "### Enabling parallelization\n",
    "\n",
    "Now, let's turn on parallelization and apply multiple cores to the task."
   ]
  },
  {
   "cell_type": "code",
   "execution_count": 5,
   "id": "1788254c",
   "metadata": {},
   "outputs": [
    {
     "name": "stdout",
     "output_type": "stream",
     "text": [
      "Numba compiled_multi took       69.847 ms\n",
      "np.all(tmp_state == py_state)=np.True_\n"
     ]
    }
   ],
   "source": [
    "@nb.njit(parallel=True)\n",
    "def compiled_multi(count, velocity, threshold, state):\n",
    "    for i in nb.prange(count):\n",
    "        if velocity[i] > threshold:\n",
    "            state[i] = 1\n",
    "\n",
    "\n",
    "compiled_multi(16, velocity=np.random.rand(16) * 20, threshold=10.0, state=np.zeros(count))\n",
    "\n",
    "timing = []\n",
    "for _ in range(10):\n",
    "    tmp_state = np.zeros(count)\n",
    "    t_start = perf_counter_ns()\n",
    "    compiled_multi(count, velocity=velocity, threshold=threshold, state=tmp_state)\n",
    "    t_finish = perf_counter_ns()\n",
    "    elapsed = t_finish - t_start\n",
    "    timing.append(elapsed)\n",
    "elapsed = min(timing)\n",
    "print(f\"Numba compiled_multi took {elapsed / 1e6:12,.3f} ms\")\n",
    "print(f\"{np.all(tmp_state == py_state)=}\")\n",
    "timings[\"Numba (parallel)\"] = elapsed"
   ]
  },
  {
   "cell_type": "markdown",
   "id": "87dbf96e",
   "metadata": {},
   "source": [
    "### `laser-core` helper functions - `apply()`\n",
    "\n",
    "`apply()` let's LASER users specify their functions as standard Python `def`s without worrying about Numba's `njit` decorator, the `parallel=True` argument, and using `prange()`.\n",
    "\n",
    "Nothing prevents interop with the style above, so users can choose what suits their personal preference."
   ]
  },
  {
   "cell_type": "code",
   "execution_count": 12,
   "id": "0a3d9d14",
   "metadata": {},
   "outputs": [
    {
     "name": "stdout",
     "output_type": "stream",
     "text": [
      "nb.get_num_threads()=8\n"
     ]
    },
    {
     "name": "stdout",
     "output_type": "stream",
     "text": [
      "Numba compiled took       78.621 ms\n",
      "np.all(nb_state == py_state)=np.True_\n"
     ]
    }
   ],
   "source": [
    "from laser_core.perf import apply\n",
    "\n",
    "print(f\"{nb.get_num_threads()=}\")\n",
    "\n",
    "\n",
    "def select(i, velocity, threshold):\n",
    "    return velocity[i] > threshold\n",
    "\n",
    "\n",
    "def update(i, state):\n",
    "    state[i] = 1\n",
    "\n",
    "\n",
    "apply(select, update, 16, velocity=np.random.rand(16) * 20, threshold=10.0, state=np.zeros(count))\n",
    "\n",
    "timing = []\n",
    "for _ in range(10):\n",
    "    nb_state = np.zeros(count)\n",
    "    t_start = perf_counter_ns()\n",
    "    apply(select, update, count, velocity=velocity, threshold=threshold, state=nb_state)\n",
    "    t_finish = perf_counter_ns()\n",
    "    elapsed = t_finish - t_start\n",
    "    timing.append(elapsed)\n",
    "elapsed = min(timing)\n",
    "print(f\"Numba compiled took {elapsed / 1e6:12,.3f} ms\")\n",
    "print(f\"{np.all(nb_state == py_state)=}\")\n",
    "timings[\"Numba (apply)\"] = elapsed"
   ]
  },
  {
   "cell_type": "markdown",
   "id": "cb054d48",
   "metadata": {},
   "source": [
    "### `numbafy()` - An Alternative to `apply()`\n",
    "\n",
    "`apply()` could be a bit verbose for usage in multiple places, so there is an alternative equivalent, `numbafy()` which returns a function to be called later rather than executing the query+update immediately. In this example we will simulate using `numbafy()` to add functionality to a class."
   ]
  },
  {
   "cell_type": "code",
   "execution_count": 15,
   "id": "161ae6bc",
   "metadata": {},
   "outputs": [
    {
     "name": "stdout",
     "output_type": "stream",
     "text": [
      "Numbafy compiled took       76.532 ms\n",
      "np.all(da_state == py_state)=np.True_\n"
     ]
    }
   ],
   "source": [
    "from laser_core.perf import numbafy\n",
    "\n",
    "\n",
    "class Component:\n",
    "    def __init__(self):\n",
    "        def select(i, velocity, threshold):\n",
    "            return velocity[i] > threshold\n",
    "\n",
    "        def update(i, state):\n",
    "            state[i] = 1\n",
    "\n",
    "        self.do_action = numbafy(select, update)\n",
    "\n",
    "        return\n",
    "\n",
    "\n",
    "component = Component()\n",
    "\n",
    "# \"Warm up\" Numba\n",
    "component.do_action(16, velocity=np.random.rand(16) * 20, threshold=10.0, state=np.zeros(16))\n",
    "\n",
    "timing = []\n",
    "for _ in range(10):\n",
    "    da_state = np.zeros(count)\n",
    "    t_start = perf_counter_ns()\n",
    "    component.do_action(count, velocity=velocity, threshold=threshold, state=da_state)\n",
    "    t_finish = perf_counter_ns()\n",
    "    elapsed = t_finish - t_start\n",
    "    timing.append(elapsed)\n",
    "elapsed = min(timing)\n",
    "print(f\"Numbafy compiled took {elapsed / 1e6:12,.3f} ms\")\n",
    "print(f\"{np.all(da_state == py_state)=}\")\n",
    "timings[\"Numba (numbafy)\"] = elapsed"
   ]
  },
  {
   "cell_type": "markdown",
   "id": "574339ec",
   "metadata": {},
   "source": [
    "## Results"
   ]
  },
  {
   "cell_type": "code",
   "execution_count": 16,
   "id": "35ebbb2d",
   "metadata": {},
   "outputs": [
    {
     "name": "stdout",
     "output_type": "stream",
     "text": [
      "Iterating over 200,000,000 agents:\n",
      "for loop            :   44,867.320 ms\n",
      "NumPy               :    1,167.243 ms\n",
      "Numba (1 core)      :      253.383 ms\n",
      "Numba (parallel)    :       69.847 ms\n",
      "Numba (apply)       :       78.621 ms\n",
      "Numba (numbafy)     :       76.532 ms\n"
     ]
    }
   ],
   "source": [
    "print(f\"Iterating over {count:,} agents:\")\n",
    "for k, v in timings.items():\n",
    "    print(f\"{k:20}: {v / 1e6:12,.3f} ms\")"
   ]
  },
  {
   "cell_type": "markdown",
   "id": "b3581702",
   "metadata": {},
   "source": [
    "## Sample Results 8-core GH Codespace and 14-core M4 MacBook Pro\n",
    "\n",
    "### Iterating over 200,000,000 agents\n",
    "\n",
    "|approach|Codespace timing|MacBook timing|\n",
    "|--------|---------------:|-------------:|\n",
    "|for loop         | 44,867.320 ms | 15,222.741 ms |\n",
    "|NumPy            |  1,167.243 ms |    690.190 ms |\n",
    "|Numba (1 core)   |    253.383 ms |    675.562 ms |\n",
    "|Numba (parallel) |     69.847 ms |     76.921 ms |\n",
    "|Numba (apply)    |     78.621 ms |     77.620 ms |\n",
    "|Numba (numbafy)  |     76.532 ms |     77.461 ms |\n"
   ]
  }
 ],
 "metadata": {
  "kernelspec": {
   "display_name": ".venv",
   "language": "python",
   "name": "python3"
  },
  "language_info": {
   "codemirror_mode": {
    "name": "ipython",
    "version": 3
   },
   "file_extension": ".py",
   "mimetype": "text/x-python",
   "name": "python",
   "nbconvert_exporter": "python",
   "pygments_lexer": "ipython3",
   "version": "3.12.8"
  }
 },
 "nbformat": 4,
 "nbformat_minor": 5
}
