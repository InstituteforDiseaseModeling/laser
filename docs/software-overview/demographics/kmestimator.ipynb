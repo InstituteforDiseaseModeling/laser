{
 "cells": [
  {
   "cell_type": "markdown",
   "metadata": {},
   "source": [
    "# Date of non-disease death estimation\n",
    "\n",
    "The Kaplan-Meier estimator uses survival information to draw for a date of death based on current age.\n",
    "\n",
    "Current age may be non-zero for an initial population or zero for newborn agents."
   ]
  },
  {
   "cell_type": "markdown",
   "metadata": {},
   "source": [
    "## Population of 100,000\n",
    "\n",
    "The input to the Kaplan-Meier estimator is the cumulative number of deaths by bin/age.\n",
    "\n",
    "The following data from Nigeria follow a hypothetical 100,000-person population giving the cumulative number of deaths by each age."
   ]
  },
  {
   "cell_type": "code",
   "execution_count": null,
   "metadata": {},
   "outputs": [],
   "source": [
    "import numpy as np\n",
    "\n",
    "cumulative = np.array([\n",
    "     8131,  9396, 10562, 11636, 12620, 13506, 14287, 14958, 15523, 15997,   # year  0.. 9\n",
    "    16400, 16756, 17083, 17401, 17725, 18067, 18437, 18837, 19268, 19726,   # year 10..19\n",
    "    20207, 20705, 21215, 21732, 22256, 22785, 23319, 23860, 24407, 24961,   # year 20..29\n",
    "    25522, 26091, 26668, 27252, 27845, 28446, 29059, 29684, 30324, 30979,   # year 30..39\n",
    "    31649, 32334, 33031, 33737, 34452, 35176, 35913, 36666, 37442, 38247,   # year 40..49\n",
    "    39085, 39959, 40869, 41815, 42795, 43811, 44866, 45966, 47118, 48330,   # year 50..59\n",
    "    49608, 50958, 52380, 53876, 55442, 57080, 58790, 60574, 62435, 64372,   # year 60..69\n",
    "    66380, 68451, 70569, 72719, 74880, 77039, 79179, 81288, 83353, 85355,   # year 70..79\n",
    "    87274, 89085, 90766, 92299, 93672, 94884, 95936, 96837, 97594, 98216,   # year 80..89\n",
    "    98713, 99097, 99383, 99590, 99735, 99833, 99897, 99939, 99965, 99980,   # year 90..99\n",
    "    100000, # year 100+\n",
    "], dtype=np.int32)"
   ]
  },
  {
   "cell_type": "code",
   "execution_count": null,
   "metadata": {},
   "outputs": [],
   "source": [
    "from laser_core.demographics import KaplanMeierEstimator\n",
    "\n",
    "estimator = KaplanMeierEstimator(cumulative)\n",
    "nagents = 100_000\n",
    "dobs = np.zeros(nagents)    # dates of birth, newborns = 0\n",
    "dods = estimator.predict_age_at_death(dobs, max_year=100)   # dates of death in days"
   ]
  },
  {
   "cell_type": "code",
   "execution_count": null,
   "metadata": {},
   "outputs": [],
   "source": [
    "import matplotlib.pyplot as plt\n",
    "\n",
    "histogram = np.zeros(cumulative.shape[0]+1, np.int32)\n",
    "yods = dods // 365  # years of death\n",
    "for i in range(cumulative.shape[0]+1):\n",
    "    histogram[i] = np.sum(yods == i)\n",
    "\n",
    "fig, ax1 = plt.subplots()\n",
    "\n",
    "color = \"tab:orange\"\n",
    "ax1.set_xlabel(\"Age\")\n",
    "ax1.set_ylabel(\"Cumulative Sampled Deaths\", color=color)\n",
    "ax1.plot(np.cumsum(histogram), color=color, marker=\"x\")\n",
    "ax1.tick_params(axis=\"y\", labelcolor=color)\n",
    "\n",
    "ax2 = ax1.twinx()\n",
    "color = \"tab:green\"\n",
    "ax2.set_ylabel(\"Input Cumulative Deaths\", color=color)\n",
    "ax2.plot(cumulative, color=color)\n",
    "ax2.tick_params(axis=\"y\", labelcolor=color)\n",
    "\n",
    "fig.tight_layout()\n",
    "plt.show()"
   ]
  },
  {
   "cell_type": "markdown",
   "metadata": {},
   "source": [
    "## Population of 50,000\n",
    "\n",
    "The input to the Kaplan-Meier estimator is the cumulative number of deaths by bin/age.\n",
    "\n",
    "The following data from Nigeria follow a hypothetical 50,000-person population giving the cumulative number of deaths by each age."
   ]
  },
  {
   "cell_type": "code",
   "execution_count": null,
   "metadata": {},
   "outputs": [],
   "source": [
    "nagents = 100_000 - cumulative[49]          # how many 50+ years old do we expect?\n",
    "dobs = np.full(nagents, 365*50)             # dates of birth, 50 years old\n",
    "dobs += np.random.randint(0, 365, nagents)  # add random days\n",
    "dods = estimator.predict_age_at_death(dobs, max_year=100)   # dates of death in days"
   ]
  },
  {
   "cell_type": "code",
   "execution_count": null,
   "metadata": {},
   "outputs": [],
   "source": [
    "histogram = np.zeros(cumulative.shape[0]+1, np.int32)\n",
    "yods = dods // 365  # years of death\n",
    "for i in range(cumulative.shape[0]+1):\n",
    "    histogram[i] = np.sum(yods == i)\n",
    "\n",
    "fig, ax1 = plt.subplots()\n",
    "\n",
    "color = \"tab:orange\"\n",
    "ax1.set_xlabel(\"Age\")\n",
    "ax1.set_ylabel(\"Cumulative Sampled Deaths\", color=color)\n",
    "ax1.plot(np.cumsum(histogram), color=color, marker=\"x\")\n",
    "ax1.tick_params(axis=\"y\", labelcolor=color)\n",
    "\n",
    "ax2 = ax1.twinx()\n",
    "color = \"tab:green\"\n",
    "ax2.set_ylabel(\"Input Cumulative Deaths (50+)\", color=color)\n",
    "subsequent = np.maximum(cumulative - cumulative[49], 0)\n",
    "ax2.plot(subsequent, color=color)\n",
    "ax2.tick_params(axis=\"y\", labelcolor=color)\n",
    "\n",
    "fig.tight_layout()\n",
    "plt.show()"
   ]
  }
 ],
 "metadata": {
  "kernelspec": {
   "display_name": "Python 3",
   "language": "python",
   "name": "python3"
  },
  "language_info": {
   "codemirror_mode": {
    "name": "ipython",
    "version": 3
   },
   "file_extension": ".py",
   "mimetype": "text/x-python",
   "name": "python",
   "nbconvert_exporter": "python",
   "pygments_lexer": "ipython3",
   "version": "3.12.1"
  }
 },
 "nbformat": 4,
 "nbformat_minor": 2
}
