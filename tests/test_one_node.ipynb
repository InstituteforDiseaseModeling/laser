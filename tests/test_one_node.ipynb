{
 "cells": [
  {
   "cell_type": "code",
   "execution_count": 1,
   "metadata": {},
   "outputs": [],
   "source": [
    "from pathlib import Path\n",
    "\n",
    "import numpy as np\n",
    "from tqdm import tqdm\n",
    "\n",
    "import idmlaser.kmcurve as kmcurve\n",
    "import idmlaser.pyramid as pyramid\n",
    "from idmlaser.models.numpynumba import NumbaSpatialSEIR\n",
    "from idmlaser.numpynumba import DemographicsByYear\n",
    "from idmlaser.utils import PriorityQueuePy\n",
    "from idmlaser.utils import PropertySet\n",
    "\n",
    "SCRIPT_PATH = Path.cwd().absolute()\n",
    "\n",
    "NYEARS = 5\n",
    "meta_params = PropertySet(\n",
    "    {\n",
    "        \"ticks\": 365*NYEARS,\n",
    "        \"nodes\": 1,\n",
    "        \"seed\": 20240702,\n",
    "        \"output\": Path.cwd() / \"outputs\",\n",
    "    }\n",
    ")\n",
    "\n",
    "model_params = PropertySet(\n",
    "    {\n",
    "        \"exp_mean\": np.float32(7.0),\n",
    "        \"exp_std\": np.float32(1.0),\n",
    "        \"inf_mean\": np.float32(7.0),\n",
    "        \"inf_std\": np.float32(1.0),\n",
    "        \"r_naught\": np.float32(14.0),\n",
    "        \"seasonality_factor\": np.float32(0.125),\n",
    "        \"seasonality_offset\": np.float32(182),\n",
    "    }\n",
    ")\n",
    "\n",
    "params = PropertySet(meta_params, model_params)\n"
   ]
  },
  {
   "cell_type": "code",
   "execution_count": 2,
   "metadata": {},
   "outputs": [
    {
     "name": "stdout",
     "output_type": "stream",
     "text": [
      "Model parameters: {'exp_mean': 7.0, 'exp_std': 1.0, 'inf_mean': 7.0, 'inf_std': 1.0, 'r_naught': 14.0, 'prng_seed': 20240412, 'ticks': 1825, 'nodes': 1, 'seed': 20240702, 'output': PosixPath('/Users/christopherlorton/projects/laser/tests/outputs'), 'seasonality_factor': 0.125, 'seasonality_offset': 182.0, 'beta': 2.0}\n",
      "Initializing model with 1 nodes: (initial population: 1,000,000 maximum capacity: 2,000,000)\n"
     ]
    }
   ],
   "source": [
    "\n",
    "model = NumbaSpatialSEIR(params)\n",
    "\n",
    "# Ignore optional parameters, cbr, mortality, and immigration\n",
    "demographics = DemographicsByYear(nyears=NYEARS, nnodes=1)\n",
    "CAPACITY = 1_000_000\n",
    "demographics.initialize(initial_population=CAPACITY)\n",
    "\n",
    "max_capacity = CAPACITY\n",
    "INFECTIONS = 10\n",
    "initial = np.zeros((1, 4), dtype=np.uint32)\n",
    "initial[0, :] = [CAPACITY - INFECTIONS, 0, INFECTIONS, 0]  # S, E, I, R\n",
    "network = np.zeros((1, 1), dtype=np.float32)  # 1x1 network\n",
    "model.initialize(CAPACITY*2, demographics, initial, network)"
   ]
  },
  {
   "cell_type": "code",
   "execution_count": 3,
   "metadata": {},
   "outputs": [
    {
     "name": "stdout",
     "output_type": "stream",
     "text": [
      "Reading data from '/Users/christopherlorton/projects/laser/tests/USA-pyramid-2023.csv' ...\n",
      "Converting age-bin indices to dates of birth...\n"
     ]
    },
    {
     "name": "stderr",
     "output_type": "stream",
     "text": [
      "100%|██████████| 21/21 [00:00<00:00, 348.22it/s]\n"
     ]
    },
    {
     "name": "stdout",
     "output_type": "stream",
     "text": [
      "Converting dates of birth to dates of death...\n"
     ]
    },
    {
     "name": "stderr",
     "output_type": "stream",
     "text": [
      "100%|██████████| 1000000/1000000 [00:06<00:00, 164278.44it/s]\n"
     ]
    },
    {
     "name": "stdout",
     "output_type": "stream",
     "text": [
      "Pushing 1000000 agents onto the priority queue...\n"
     ]
    },
    {
     "name": "stderr",
     "output_type": "stream",
     "text": [
      "100%|██████████| 1000000/1000000 [00:00<00:00, 1050482.63it/s]\n"
     ]
    }
   ],
   "source": [
    "def init_dobs_dods(filename, count, dobs, dods, seed=20240703):\n",
    "    popdata = pyramid.load_pyramid_csv(filename)\n",
    "    prng = np.random.default_rng(seed)\n",
    "    agedist = pyramid.AliasedDistribution(popdata[:, 4], prng=prng)  # ignore sex for now\n",
    "    indices = agedist.sample(dobs.shape[0])\n",
    "    minage = popdata[:, 0] * 365  # closed interval (include this value)\n",
    "    limage = (popdata[:, 1] + 1) * 365  # open interval (do not include this value)\n",
    "    print(\"Converting age-bin indices to dates of birth...\")\n",
    "    for i in tqdm(range(len(popdata))):\n",
    "        mask = indices == i\n",
    "        dobs[mask] = prng.integers(low=minage[i], high=limage[i], size=mask.sum())\n",
    "    print(\"Converting dates of birth to dates of death...\")\n",
    "    for i in tqdm(range(count)):\n",
    "        dods[i] = kmcurve.predicted_day_of_death(dobs[i])\n",
    "    dods -= dobs.astype(dods.dtype)  # renormalize to be relative to _now_ (t=0)\n",
    "    dobs = -dobs  # all _living_ agents have dates of birth before now (t=0)\n",
    "\n",
    "    return\n",
    "\n",
    "\n",
    "population = model.population\n",
    "population.add_property(\"dod\", dtype=np.int32)\n",
    "init_dobs_dods(\n",
    "    SCRIPT_PATH / \"USA-pyramid-2023.csv\", population.count, population.dob, population.dod, seed=params.seed\n",
    ")  # 2023 is the most recent year of data\n",
    "\n",
    "# print(f\"Pushing {population.dod.shape[0]} agents onto the priority queue...\")\n",
    "print(f\"Pushing {population.count} agents onto the priority queue...\")\n",
    "pq = PriorityQueuePy(population.dod.shape[0], population.dod)\n",
    "dods = population.dod\n",
    "ticks = params.ticks\n",
    "# for i in tqdm(range(population.dod.shape[0])):\n",
    "for i in tqdm(range(population.count)):\n",
    "    if dods[i] < ticks:\n",
    "        pq.push(i)\n",
    "\n",
    "# temp\n",
    "# print(f\"Popping {population.count} agents off the priority queue...\")\n",
    "# for _ in tqdm(range(population.count)):\n",
    "#     pq.pop()\n",
    "\n",
    "model.queues = [pq]\n",
    "\n"
   ]
  },
  {
   "cell_type": "code",
   "execution_count": 4,
   "metadata": {},
   "outputs": [],
   "source": [
    "# HACK, HACK, HACK\n",
    "\n",
    "def non_disease_deaths(model, tick) -> None:\n",
    "    states = model.population.states\n",
    "    pq = model.queues[0]  # only one node, right now\n",
    "    while (pq.size > 0) and (pq.peekv() == tick):\n",
    "        i = pq.popi()\n",
    "        states[i] = 0  # dead\n",
    "    return\n",
    "\n",
    "\n",
    "model._phases.insert(0, non_disease_deaths)\n",
    "\n",
    "# KCAH, KCAH, KCAH\n"
   ]
  },
  {
   "cell_type": "markdown",
   "metadata": {},
   "source": [
    "## NNMM Required Features\n",
    "\n",
    "- vital dynamics\n",
    "  - births\n",
    "  - non-disease deaths\n",
    "- maternal protection\n",
    "- age-based mixing\n",
    "- seasonality\n",
    "- routine immunization\n",
    "- SIAs\n",
    "- non-uniform shedding"
   ]
  },
  {
   "cell_type": "markdown",
   "metadata": {},
   "source": [
    "### Vital Dynamics: Births\n",
    "\n",
    "Just use CBR w/out stochasticity to determine births for each year. We distribute those births uniformly across the year. We put the births into a per-node data structure so the `do_births` phase function can access the per tick birth count."
   ]
  },
  {
   "cell_type": "code",
   "execution_count": 5,
   "metadata": {},
   "outputs": [
    {
     "name": "stdout",
     "output_type": "stream",
     "text": [
      "Annual births: [18000 18324 18653 18989 19331]\n",
      "do_births,non_disease_deaths,infection_update,incubation_update,transmission_update,report_update\n"
     ]
    }
   ],
   "source": [
    "from idmlaser.models.numpynumba import STATE_SUSCEPTIBLE\n",
    "from idmlaser.numpynumba import Population\n",
    "\n",
    "initial_population = CAPACITY\n",
    "nyears = (params.ticks + 364) // 365\n",
    "cbr = 18    # crude birth rate per 1000\n",
    "annual_births = np.zeros(nyears, dtype=np.uint32)\n",
    "running_population = initial_population\n",
    "for i in range(nyears):\n",
    "    annual_births[i] = (cbr * running_population) // 1000\n",
    "    running_population += annual_births[i]\n",
    "print(f\"Annual births: {annual_births}\")\n",
    "daily_births = np.zeros(params.ticks, dtype=np.uint32)\n",
    "for i in range(params.ticks):\n",
    "    iyear = i // 365\n",
    "    doy = i % 365 + 1  # day of year, 1-based\n",
    "    daily_births[i] = (annual_births[iyear] * doy // 365) - (annual_births[iyear] * (doy - 1) // 365)\n",
    "\n",
    "model.nodes = Population(1) # only one node, right now\n",
    "model.nodes.add_vector_property(\"births\", length=params.ticks, dtype=np.uint32)\n",
    "model.nodes.births[0,:] = daily_births\n",
    "\n",
    "def do_births(model, tick) -> None:\n",
    "    births = model.nodes.births[0][tick]\n",
    "    if births > 0:\n",
    "        population = model.population\n",
    "        istart, iend = population.add(births)\n",
    "        population.dob[istart:iend] = tick\n",
    "        population.states[istart:iend] = STATE_SUSCEPTIBLE\n",
    "        population.susceptibility[istart:iend] = 1\n",
    "        population.nodeid[istart:iend] = 0\n",
    "\n",
    "model._phases = list(filter(lambda phase: phase.__name__ != \"vital_dynamics\", model._phases))   # remove the original vital_dynamics phase\n",
    "model._phases.insert(0, do_births)  # insert the new do_births phase\n",
    "\n",
    "print(\",\".join(phase.__name__ for phase in model._phases))"
   ]
  },
  {
   "cell_type": "code",
   "execution_count": 6,
   "metadata": {},
   "outputs": [
    {
     "name": "stderr",
     "output_type": "stream",
     "text": [
      "100%|██████████| 1825/1825 [00:03<00:00, 521.62it/s]"
     ]
    },
    {
     "name": "stdout",
     "output_type": "stream",
     "text": [
      "elapsed time: 0:00:03.500380\n",
      "(1826, 5, 1)\n",
      "[[888273  93154  14580   2481   2991]\n",
      " [855184 120868  19110   3315   3051]\n",
      " [813532 155395  25163   4369   3119]\n",
      " [761825 197849  32905   5858   3190]\n",
      " [697796 249545  43285   7789   3261]\n",
      " [621953 309466  56595  10393   3319]\n",
      " [532992 377721  74042  13653   3367]\n",
      " [433715 450213  96611  17860   3425]\n",
      " [329705 520777 124487  23423   3481]\n",
      " [228682 579369 159640  30714   3518]\n",
      " [139564 615773 202589  40501   3545]\n",
      " [ 71381 619938 254117  53013   3572]\n",
      " [ 28713 586667 313454  69638   3599]\n",
      " [  7803 519796 379988  90913   3620]\n",
      " [  1064 430810 448540 118126   3629]\n",
      " [    26 331719 514247 152588   3639]\n",
      " [     0 235332 567535 195764   3637]\n",
      " [     0 150816 598512 249355   3634]\n",
      " [     0  84667 600497 313556   3647]\n",
      " [     0  40429 568792 389535   3660]]\n",
      "[[1000000]\n",
      " [1000049]\n",
      " [1000098]\n",
      " ...\n",
      " [1093191]\n",
      " [1093244]\n",
      " [1093297]]\n"
     ]
    },
    {
     "name": "stderr",
     "output_type": "stream",
     "text": [
      "\n"
     ]
    }
   ],
   "source": [
    "model.run(params.ticks)\n",
    "\n",
    "# model.report : ticks x channels x nodes\n",
    "print(model.report.shape)\n",
    "print(model.report[30:50, :, 0])\n",
    "\n",
    "print(model.report.sum(axis=1))"
   ]
  },
  {
   "cell_type": "code",
   "execution_count": 9,
   "metadata": {},
   "outputs": [
    {
     "name": "stdout",
     "output_type": "stream",
     "text": [
      "do_births           :      20,496 μs\n",
      "non_disease_deaths  :     185,073 μs\n",
      "infection_update    :     368,697 μs\n",
      "incubation_update   :     353,376 μs\n",
      "transmission_update :     954,092 μs\n",
      "report_update       :   1,581,962 μs\n",
      "====================================\n",
      "total               :   3,463,696 μs\n"
     ]
    }
   ],
   "source": [
    "metrics = model.metrics\n",
    "columns = metrics.columns[1:]\n",
    "cumulative = 0\n",
    "for column in columns:\n",
    "    total = metrics[column].sum()\n",
    "    print(f\"{column:20}: {total:11,} μs\")\n",
    "    cumulative += total\n",
    "print(\"====================================\")\n",
    "print(f\"total               : {cumulative:11,} μs\")"
   ]
  },
  {
   "cell_type": "code",
   "execution_count": 15,
   "metadata": {},
   "outputs": [
    {
     "name": "stdout",
     "output_type": "stream",
     "text": [
      "Goodbye [cruel], world!\n"
     ]
    }
   ],
   "source": [
    "print(\"Goodbye [cruel], world!\")\n"
   ]
  },
  {
   "cell_type": "code",
   "execution_count": 10,
   "metadata": {},
   "outputs": [
    {
     "data": {
      "image/png": "[encoded data removed]",
      "text/plain": [
       "<Figure size 640x480 with 1 Axes>"
      ]
     },
     "metadata": {},
     "output_type": "display_data"
    }
   ],
   "source": [
    "import matplotlib.pyplot as plt\n",
    "\n",
    "# Extract the \"S\", \"E\", \"I\", and \"R\" channels from model.report\n",
    "s_channel = model.report[0:100, 0, 0]\n",
    "e_channel = model.report[0:100, 1, 0]\n",
    "i_channel = model.report[0:100, 2, 0]\n",
    "r_channel = model.report[0:100, 3, 0]\n",
    "\n",
    "# Plot the channels\n",
    "plt.plot(s_channel, label=\"S\")\n",
    "plt.plot(e_channel, label=\"E\")\n",
    "plt.plot(i_channel, label=\"I\")\n",
    "plt.plot(r_channel, label=\"R\")\n",
    "\n",
    "# Add labels and legend\n",
    "plt.xlabel(\"Time\")\n",
    "plt.ylabel(\"Population\")\n",
    "plt.legend()\n",
    "\n",
    "# Show the plot\n",
    "plt.show()"
   ]
  }
 ],
 "metadata": {
  "kernelspec": {
   "display_name": ".venv",
   "language": "python",
   "name": "python3"
  },
  "language_info": {
   "codemirror_mode": {
    "name": "ipython",
    "version": 3
   },
   "file_extension": ".py",
   "mimetype": "text/x-python",
   "name": "python",
   "nbconvert_exporter": "python",
   "pygments_lexer": "ipython3",
   "version": "3.9.6"
  }
 },
 "nbformat": 4,
 "nbformat_minor": 2
}
