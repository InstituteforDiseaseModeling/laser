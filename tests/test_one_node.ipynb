{
 "cells": [
  {
   "cell_type": "code",
   "execution_count": 8,
   "metadata": {},
   "outputs": [
    {
     "name": "stdout",
     "output_type": "stream",
     "text": [
      "Model parameters: {'exp_mean': 7.0, 'exp_std': 1.0, 'inf_mean': 7.0, 'inf_std': 1.0, 'r_naught': 14.0, 'prng_seed': 20240412, 'ticks': 365, 'nodes': 1, 'seed': 20240702, 'output': PosixPath('/Users/christopherlorton/projects/laser/tests/outputs'), 'seasonality_factor': 0.125, 'seasonality_offset': 182.0, 'beta': 2.0}\n",
      "Initializing model with 1 nodes: (initial population: 1,000,000 maximum capacity: 1,000,000)\n"
     ]
    }
   ],
   "source": [
    "from pathlib import Path\n",
    "\n",
    "import numpy as np\n",
    "from tqdm import tqdm\n",
    "\n",
    "import idmlaser.kmcurve as kmcurve\n",
    "import idmlaser.pyramid as pyramid\n",
    "from idmlaser.models.numpynumba import STATE_ACTIVE\n",
    "from idmlaser.models.numpynumba import NumbaSpatialSEIR\n",
    "from idmlaser.numpynumba import DemographicsByYear\n",
    "from idmlaser.utils import PriorityQueueNB\n",
    "from idmlaser.utils import PropertySet\n",
    "\n",
    "SCRIPT_PATH = Path.cwd().absolute()\n",
    "\n",
    "meta_params = PropertySet(\n",
    "    {\n",
    "        \"ticks\": 365,\n",
    "        \"nodes\": 1,\n",
    "        \"seed\": 20240702,\n",
    "        \"output\": Path.cwd() / \"outputs\",\n",
    "    }\n",
    ")\n",
    "\n",
    "model_params = PropertySet(\n",
    "    {\n",
    "        \"exp_mean\": np.float32(7.0),\n",
    "        \"exp_std\": np.float32(1.0),\n",
    "        \"inf_mean\": np.float32(7.0),\n",
    "        \"inf_std\": np.float32(1.0),\n",
    "        \"r_naught\": np.float32(14.0),\n",
    "        \"seasonality_factor\": np.float32(0.125),\n",
    "        \"seasonality_offset\": np.float32(182),\n",
    "    }\n",
    ")\n",
    "\n",
    "params = PropertySet(meta_params, model_params)\n",
    "\n",
    "model = NumbaSpatialSEIR(params)\n",
    "\n",
    "# Ignore optional parameters, cbr, mortality, and immigration\n",
    "demographics = DemographicsByYear(nyears=1, nnodes=1)\n",
    "CAPACITY = 1_000_000\n",
    "demographics.initialize(initial_population=CAPACITY)\n",
    "\n",
    "max_capacity = CAPACITY\n",
    "INFECTIONS = 10\n",
    "initial = np.zeros((1, 4), dtype=np.uint32)\n",
    "initial[0, :] = [CAPACITY - INFECTIONS, 0, INFECTIONS, 0]  # S, E, I, R\n",
    "network = np.zeros((1, 1), dtype=np.float32)  # 1x1 network\n",
    "model.initialize(max_capacity, demographics, initial, network)\n"
   ]
  },
  {
   "cell_type": "code",
   "execution_count": 9,
   "metadata": {},
   "outputs": [
    {
     "name": "stdout",
     "output_type": "stream",
     "text": [
      "Reading data from '/Users/christopherlorton/projects/laser/tests/USA-pyramid-2023.csv' ...\n",
      "Converting age-bin indices to dates of birth...\n"
     ]
    },
    {
     "name": "stderr",
     "output_type": "stream",
     "text": [
      "100%|██████████| 21/21 [00:00<00:00, 588.99it/s]\n"
     ]
    },
    {
     "name": "stdout",
     "output_type": "stream",
     "text": [
      "Converting dates of birth to dates of death...\n"
     ]
    },
    {
     "name": "stderr",
     "output_type": "stream",
     "text": [
      "100%|██████████| 1000000/1000000 [00:06<00:00, 161655.95it/s]\n"
     ]
    },
    {
     "name": "stdout",
     "output_type": "stream",
     "text": [
      "Pushing 1000000 agents onto the priority queue...\n"
     ]
    },
    {
     "name": "stderr",
     "output_type": "stream",
     "text": [
      "100%|██████████| 1000000/1000000 [00:01<00:00, 951873.29it/s]\n"
     ]
    }
   ],
   "source": [
    "def init_dobs_dods(filename, dobs, dods, seed=20240703):\n",
    "    popdata = pyramid.load_pyramid_csv(filename)\n",
    "    prng = np.random.default_rng(seed)\n",
    "    agedist = pyramid.AliasedDistribution(popdata[:, 4], prng=prng)  # ignore sex for now\n",
    "    indices = agedist.sample(dobs.shape[0])\n",
    "    minage = popdata[:, 0] * 365  # closed interval (include this value)\n",
    "    limage = (popdata[:, 1] + 1) * 365  # open interval (do not include this value)\n",
    "    print(\"Converting age-bin indices to dates of birth...\")\n",
    "    for i in tqdm(range(len(popdata))):\n",
    "        mask = indices == i\n",
    "        dobs[mask] = prng.integers(low=minage[i], high=limage[i], size=mask.sum())\n",
    "    print(\"Converting dates of birth to dates of death...\")\n",
    "    for i in tqdm(range(len(dobs))):\n",
    "        dods[i] = kmcurve.predicted_day_of_death(dobs[i])\n",
    "    dods -= dobs.astype(dods.dtype)  # renormalize to be relative to _now_ (t=0)\n",
    "    dobs = -dobs  # all _living_ agents have dates of birth before now (t=0)\n",
    "\n",
    "    return\n",
    "\n",
    "\n",
    "model.population.add_property(\"dod\", dtype=np.int32)\n",
    "init_dobs_dods(\n",
    "    SCRIPT_PATH / \"USA-pyramid-2023.csv\", model.population.dob, model.population.dod, seed=params.seed\n",
    ")  # 2023 is the most recent year of data\n",
    "\n",
    "print(f\"Pushing {model.population.dod.shape[0]} agents onto the priority queue...\")\n",
    "pq = PriorityQueueNB(model.population.dod.shape[0], model.population.dod)\n",
    "for i in tqdm(range(model.population.dod.shape[0])):\n",
    "    pq.push(i)\n",
    "\n",
    "# temp\n",
    "# print(f\"Popping {model.population.dod.shape[0]} agents off the priority queue...\")\n",
    "# for _ in tqdm(range(model.population.dod.shape[0])):\n",
    "#     pq.pop()\n",
    "\n",
    "model.queues = [pq]\n",
    "\n"
   ]
  },
  {
   "cell_type": "code",
   "execution_count": 10,
   "metadata": {},
   "outputs": [],
   "source": [
    "# HACK, HACK, HACK\n",
    "\n",
    "def non_disease_deaths(model, tick) -> None:\n",
    "    states = model.population.states\n",
    "    pq = model.queues[0]  # only one node, right now\n",
    "    while (pq.size > 0) and (pq.peekv() == tick):\n",
    "        i = pq.popi()\n",
    "        states[i] = 0  # dead\n",
    "    return\n",
    "\n",
    "\n",
    "model._phases.insert(0, non_disease_deaths)\n",
    "\n",
    "# KCAH, KCAH, KCAH\n"
   ]
  },
  {
   "cell_type": "code",
   "execution_count": 11,
   "metadata": {},
   "outputs": [
    {
     "name": "stderr",
     "output_type": "stream",
     "text": [
      "100%|██████████| 365/365 [00:01<00:00, 340.72it/s]"
     ]
    },
    {
     "name": "stdout",
     "output_type": "stream",
     "text": [
      "elapsed time: 0:00:01.072912\n",
      "(366, 5, 1)\n",
      "[[892203  88788  13811   2303   2895]\n",
      " [860906 115044  18009   3081   2960]\n",
      " [821309 147823  23712   4120   3036]\n",
      " [771453 188552  31354   5549   3092]\n",
      " [709866 238403  41178   7385   3168]\n",
      " [635440 297538  54025   9761   3236]\n",
      " [549207 364258  70372  12870   3293]\n",
      " [451987 436138  91753  16779   3343]\n",
      " [349029 507020 118436  22130   3385]\n",
      " [246655 568564 152157  29186   3438]\n",
      " [155163 609350 193496  38512   3479]\n",
      " [ 82570 620134 243256  50530   3510]\n",
      " [ 34673 594121 301566  66108   3532]\n",
      " [ 10265 533249 366508  86441   3537]\n",
      " [  1653 447128 435291 112354   3574]\n",
      " [    60 349161 502042 145171   3566]\n",
      " [     0 252052 557799 186583   3566]\n",
      " [     0 164912 593673 237855   3560]\n",
      " [     0  95235 600757 300445   3563]\n",
      " [     0  46717 575902 373826   3555]]\n"
     ]
    },
    {
     "name": "stderr",
     "output_type": "stream",
     "text": [
      "\n"
     ]
    }
   ],
   "source": [
    "model.run(params.ticks)\n",
    "\n",
    "# model.report : ticks x channels x nodes\n",
    "print(model.report.shape)\n",
    "print(model.report[30:50, :, 0])\n",
    "\n"
   ]
  },
  {
   "cell_type": "code",
   "execution_count": 12,
   "metadata": {},
   "outputs": [
    {
     "name": "stdout",
     "output_type": "stream",
     "text": [
      "non_disease_deaths  :      71,745 μs\n",
      "vital_dynamics      :       9,021 μs\n",
      "infection_update    :      74,423 μs\n",
      "incubation_update   :      82,077 μs\n",
      "transmission_update :     503,753 μs\n",
      "report_update       :     321,533 μs\n",
      "====================================\n",
      "total               : 1,062,552 μs\n"
     ]
    }
   ],
   "source": [
    "metrics = np.array(model.metrics)\n",
    "for c in range(metrics.shape[1]):\n",
    "    if c == 0:\n",
    "        continue\n",
    "    print(f\"{model._phases[c-1].__name__:20}: {metrics[:,c].sum():11,} μs\")\n",
    "print(\"====================================\")\n",
    "print(f\"total               : {metrics[:, 1:].sum():,} μs\")\n"
   ]
  },
  {
   "cell_type": "code",
   "execution_count": 13,
   "metadata": {},
   "outputs": [
    {
     "name": "stdout",
     "output_type": "stream",
     "text": [
      "Goodbye [cruel], world!\n"
     ]
    }
   ],
   "source": [
    "print(\"Goodbye [cruel], world!\")\n"
   ]
  },
  {
   "cell_type": "code",
   "execution_count": 14,
   "metadata": {},
   "outputs": [
    {
     "data": {
      "image/png": "[encoded data removed]",
      "text/plain": [
       "<Figure size 640x480 with 1 Axes>"
      ]
     },
     "metadata": {},
     "output_type": "display_data"
    }
   ],
   "source": [
    "import matplotlib.pyplot as plt\n",
    "\n",
    "# Extract the \"S\", \"E\", \"I\", and \"R\" channels from model.report\n",
    "s_channel = model.report[0:100, 0, 0]\n",
    "e_channel = model.report[0:100, 1, 0]\n",
    "i_channel = model.report[0:100, 2, 0]\n",
    "r_channel = model.report[0:100, 3, 0]\n",
    "\n",
    "# Plot the channels\n",
    "plt.plot(s_channel, label=\"S\")\n",
    "plt.plot(e_channel, label=\"E\")\n",
    "plt.plot(i_channel, label=\"I\")\n",
    "plt.plot(r_channel, label=\"R\")\n",
    "\n",
    "# Add labels and legend\n",
    "plt.xlabel(\"Time\")\n",
    "plt.ylabel(\"Population\")\n",
    "plt.legend()\n",
    "\n",
    "# Show the plot\n",
    "plt.show()"
   ]
  }
 ],
 "metadata": {
  "kernelspec": {
   "display_name": ".venv",
   "language": "python",
   "name": "python3"
  },
  "language_info": {
   "codemirror_mode": {
    "name": "ipython",
    "version": 3
   },
   "file_extension": ".py",
   "mimetype": "text/x-python",
   "name": "python",
   "nbconvert_exporter": "python",
   "pygments_lexer": "ipython3",
   "version": "3.9.6"
  }
 },
 "nbformat": 4,
 "nbformat_minor": 2
}
